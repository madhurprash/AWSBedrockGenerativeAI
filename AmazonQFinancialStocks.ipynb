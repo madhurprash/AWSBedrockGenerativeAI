{
 "cells": [
  {
   "cell_type": "markdown",
   "metadata": {},
   "source": [
    "## Amazon Q Configuration: Create a chatbot to interact with your company data, send out quicksite reports"
   ]
  },
  {
   "cell_type": "code",
   "execution_count": 1,
   "metadata": {},
   "outputs": [
    {
     "name": "stdout",
     "output_type": "stream",
     "text": [
      "\u001b[33mWARNING: Skipping /opt/homebrew/lib/python3.11/site-packages/platformdirs-4.1.0.dist-info due to invalid metadata entry 'name'\u001b[0m\u001b[33m\n",
      "\u001b[0m\u001b[33mWARNING: Skipping /opt/homebrew/lib/python3.11/site-packages/filelock-3.13.1.dist-info due to invalid metadata entry 'name'\u001b[0m\u001b[33m\n",
      "\u001b[0m\u001b[33mWARNING: Skipping /opt/homebrew/lib/python3.11/site-packages/six-1.16.0-py3.11.egg-info due to invalid metadata entry 'name'\u001b[0m\u001b[33m\n",
      "\u001b[0m\u001b[33mWARNING: Skipping /opt/homebrew/lib/python3.11/site-packages/platformdirs-4.1.0.dist-info due to invalid metadata entry 'name'\u001b[0m\u001b[33m\n",
      "\u001b[0m\u001b[33mWARNING: Skipping /opt/homebrew/lib/python3.11/site-packages/filelock-3.13.1.dist-info due to invalid metadata entry 'name'\u001b[0m\u001b[33m\n",
      "\u001b[0m\u001b[33mWARNING: Skipping /opt/homebrew/lib/python3.11/site-packages/six-1.16.0-py3.11.egg-info due to invalid metadata entry 'name'\u001b[0m\u001b[33m\n",
      "\u001b[0m\u001b[33mWARNING: Skipping /opt/homebrew/lib/python3.11/site-packages/distlib-0.3.8.dist-info due to invalid metadata entry 'name'\u001b[0m\u001b[33m\n",
      "\u001b[0mRequirement already satisfied: boto3 in /opt/homebrew/lib/python3.11/site-packages (1.34.11)\n",
      "Requirement already satisfied: botocore<1.35.0,>=1.34.11 in /opt/homebrew/lib/python3.11/site-packages (from boto3) (1.34.11)\n",
      "Requirement already satisfied: jmespath<2.0.0,>=0.7.1 in /opt/homebrew/lib/python3.11/site-packages (from boto3) (1.0.1)\n",
      "Requirement already satisfied: s3transfer<0.11.0,>=0.10.0 in /opt/homebrew/lib/python3.11/site-packages (from boto3) (0.10.0)\n",
      "Requirement already satisfied: python-dateutil<3.0.0,>=2.1 in /opt/homebrew/lib/python3.11/site-packages (from botocore<1.35.0,>=1.34.11->boto3) (2.8.2)\n",
      "Requirement already satisfied: urllib3<2.1,>=1.25.4 in /opt/homebrew/lib/python3.11/site-packages (from botocore<1.35.0,>=1.34.11->boto3) (2.0.7)\n",
      "Requirement already satisfied: six>=1.5 in /opt/homebrew/lib/python3.11/site-packages (from python-dateutil<3.0.0,>=2.1->botocore<1.35.0,>=1.34.11->boto3) (1.16.0)\n",
      "\u001b[33mWARNING: Skipping /opt/homebrew/lib/python3.11/site-packages/platformdirs-4.1.0.dist-info due to invalid metadata entry 'name'\u001b[0m\u001b[33m\n",
      "\u001b[0m\u001b[33mWARNING: Skipping /opt/homebrew/lib/python3.11/site-packages/filelock-3.13.1.dist-info due to invalid metadata entry 'name'\u001b[0m\u001b[33m\n",
      "\u001b[0m\u001b[33mWARNING: Skipping /opt/homebrew/lib/python3.11/site-packages/six-1.16.0-py3.11.egg-info due to invalid metadata entry 'name'\u001b[0m\u001b[33m\n",
      "\u001b[0m\u001b[33mWARNING: Skipping /opt/homebrew/lib/python3.11/site-packages/distlib-0.3.8.dist-info due to invalid metadata entry 'name'\u001b[0m\u001b[33m\n",
      "\u001b[0m\u001b[33mWARNING: Skipping /opt/homebrew/lib/python3.11/site-packages/platformdirs-4.1.0.dist-info due to invalid metadata entry 'name'\u001b[0m\u001b[33m\n",
      "\u001b[0m\u001b[33mWARNING: Skipping /opt/homebrew/lib/python3.11/site-packages/filelock-3.13.1.dist-info due to invalid metadata entry 'name'\u001b[0m\u001b[33m\n",
      "\u001b[0m\u001b[33mWARNING: Skipping /opt/homebrew/lib/python3.11/site-packages/six-1.16.0-py3.11.egg-info due to invalid metadata entry 'name'\u001b[0m\u001b[33m\n",
      "\u001b[0m\u001b[33mWARNING: Skipping /opt/homebrew/lib/python3.11/site-packages/platformdirs-4.1.0.dist-info due to invalid metadata entry 'name'\u001b[0m\u001b[33m\n",
      "\u001b[0m\u001b[33mWARNING: Skipping /opt/homebrew/lib/python3.11/site-packages/filelock-3.13.1.dist-info due to invalid metadata entry 'name'\u001b[0m\u001b[33m\n",
      "\u001b[0m\u001b[33mWARNING: Skipping /opt/homebrew/lib/python3.11/site-packages/six-1.16.0-py3.11.egg-info due to invalid metadata entry 'name'\u001b[0m\u001b[33m\n",
      "\u001b[0m\u001b[33mWARNING: Skipping /opt/homebrew/lib/python3.11/site-packages/distlib-0.3.8.dist-info due to invalid metadata entry 'name'\u001b[0m\u001b[33m\n",
      "\u001b[0m\u001b[33mWARNING: Skipping /opt/homebrew/lib/python3.11/site-packages/platformdirs-4.1.0.dist-info due to invalid metadata entry 'name'\u001b[0m\u001b[33m\n",
      "\u001b[0m\u001b[33mWARNING: Skipping /opt/homebrew/lib/python3.11/site-packages/filelock-3.13.1.dist-info due to invalid metadata entry 'name'\u001b[0m\u001b[33m\n",
      "\u001b[0m\u001b[33mWARNING: Skipping /opt/homebrew/lib/python3.11/site-packages/six-1.16.0-py3.11.egg-info due to invalid metadata entry 'name'\u001b[0m\u001b[33m\n",
      "\u001b[0m\u001b[33mWARNING: Skipping /opt/homebrew/lib/python3.11/site-packages/distlib-0.3.8.dist-info due to invalid metadata entry 'name'\u001b[0m\u001b[33m\n",
      "\u001b[0m"
     ]
    }
   ],
   "source": [
    "## Install the latest version of boto3 sdk to be able to use the Amazon Q APIs to create insights and reports\n",
    "!pip install boto3"
   ]
  },
  {
   "cell_type": "code",
   "execution_count": 6,
   "metadata": {},
   "outputs": [
    {
     "name": "stdout",
     "output_type": "stream",
     "text": [
      "{'ResponseMetadata': {'RequestId': 'a76c5e86-bd0a-471f-ac95-fd0ccc0b5df1', 'HTTPStatusCode': 200, 'HTTPHeaders': {'x-amzn-requestid': 'a76c5e86-bd0a-471f-ac95-fd0ccc0b5df1', 'date': 'Mon, 01 Jan 2024 19:35:29 GMT', 'content-type': 'application/json', 'content-length': '165', 'connection': 'keep-alive'}, 'RetryAttempts': 0}, 'applicationArn': 'arn:aws:qbusiness:us-east-1:218208277580:application/9108cc13-bb7f-4f8e-8684-141c09e97bce', 'applicationId': '9108cc13-bb7f-4f8e-8684-141c09e97bce'}\n"
     ]
    }
   ],
   "source": [
    "import requests\n",
    "import json\n",
    "\n",
    "# AWS credentials - replace with your credentials\n",
    "aws_access_key_id = ''\n",
    "aws_secret_access_key = ''\n",
    "\n",
    "import boto3\n",
    "\n",
    "# Initialize a Boto3 client for Amazon Q\n",
    "# Note: 'amazon_q' is a placeholder. Replace it with the actual client name if different.\n",
    "client = boto3.client('qbusiness', region_name='us-east-1')\n",
    "\n",
    "# Parameters for the application creation\n",
    "params = {\n",
    "    # \"attachmentsConfiguration\": {\"attachmentsControlMode\": \"string\"},\n",
    "    # \"clientToken\": \"string\",\n",
    "    # \"description\": \"string\",\n",
    "    \"displayName\": \"FinancialBot2039\",\n",
    "    # \"encryptionConfiguration\": {\"kmsKeyId\": \"string\"},\n",
    "    \"roleArn\": \"\",\n",
    "    # \"tags\": [\n",
    "    #     {\"key\": \"string\", \"value\": \"string\"}\n",
    "    # ]\n",
    "}\n",
    "\n",
    "# Create the application\n",
    "response = client.create_application(**params)\n",
    "\n",
    "# Print the response\n",
    "print(response)\n",
    "\n"
   ]
  },
  {
   "cell_type": "markdown",
   "metadata": {},
   "source": [
    "## Create your Data Source for your application \n",
    "\n",
    "#### We will be using and pumping in some simple PDF files from our S3 bucket here. Our goal is to be able to use this data and generate quicksite findings based on the answers returned by the chatbot"
   ]
  },
  {
   "cell_type": "code",
   "execution_count": 7,
   "metadata": {},
   "outputs": [
    {
     "name": "stdout",
     "output_type": "stream",
     "text": [
      "\u001b[33mWARNING: Skipping /opt/homebrew/lib/python3.11/site-packages/platformdirs-4.1.0.dist-info due to invalid metadata entry 'name'\u001b[0m\u001b[33m\n",
      "\u001b[0m\u001b[33mWARNING: Skipping /opt/homebrew/lib/python3.11/site-packages/filelock-3.13.1.dist-info due to invalid metadata entry 'name'\u001b[0m\u001b[33m\n",
      "\u001b[0m\u001b[33mWARNING: Skipping /opt/homebrew/lib/python3.11/site-packages/six-1.16.0-py3.11.egg-info due to invalid metadata entry 'name'\u001b[0m\u001b[33m\n",
      "\u001b[0m\u001b[33mWARNING: Skipping /opt/homebrew/lib/python3.11/site-packages/platformdirs-4.1.0.dist-info due to invalid metadata entry 'name'\u001b[0m\u001b[33m\n",
      "\u001b[0m\u001b[33mWARNING: Skipping /opt/homebrew/lib/python3.11/site-packages/filelock-3.13.1.dist-info due to invalid metadata entry 'name'\u001b[0m\u001b[33m\n",
      "\u001b[0m\u001b[33mWARNING: Skipping /opt/homebrew/lib/python3.11/site-packages/six-1.16.0-py3.11.egg-info due to invalid metadata entry 'name'\u001b[0m\u001b[33m\n",
      "\u001b[0m\u001b[33mWARNING: Skipping /opt/homebrew/lib/python3.11/site-packages/distlib-0.3.8.dist-info due to invalid metadata entry 'name'\u001b[0m\u001b[33m\n",
      "\u001b[0mRequirement already satisfied: requests in /opt/homebrew/lib/python3.11/site-packages (2.31.0)\n",
      "Requirement already satisfied: charset-normalizer<4,>=2 in /opt/homebrew/lib/python3.11/site-packages (from requests) (3.3.0)\n",
      "Requirement already satisfied: idna<4,>=2.5 in /opt/homebrew/lib/python3.11/site-packages (from requests) (3.4)\n",
      "Requirement already satisfied: urllib3<3,>=1.21.1 in /opt/homebrew/lib/python3.11/site-packages (from requests) (2.0.7)\n",
      "Requirement already satisfied: certifi>=2017.4.17 in /opt/homebrew/lib/python3.11/site-packages (from requests) (2023.7.22)\n",
      "\u001b[33mWARNING: Skipping /opt/homebrew/lib/python3.11/site-packages/platformdirs-4.1.0.dist-info due to invalid metadata entry 'name'\u001b[0m\u001b[33m\n",
      "\u001b[0m\u001b[33mWARNING: Skipping /opt/homebrew/lib/python3.11/site-packages/filelock-3.13.1.dist-info due to invalid metadata entry 'name'\u001b[0m\u001b[33m\n",
      "\u001b[0m\u001b[33mWARNING: Skipping /opt/homebrew/lib/python3.11/site-packages/six-1.16.0-py3.11.egg-info due to invalid metadata entry 'name'\u001b[0m\u001b[33m\n",
      "\u001b[0m\u001b[33mWARNING: Skipping /opt/homebrew/lib/python3.11/site-packages/distlib-0.3.8.dist-info due to invalid metadata entry 'name'\u001b[0m\u001b[33m\n",
      "\u001b[0m\u001b[33mWARNING: Skipping /opt/homebrew/lib/python3.11/site-packages/platformdirs-4.1.0.dist-info due to invalid metadata entry 'name'\u001b[0m\u001b[33m\n",
      "\u001b[0m\u001b[33mWARNING: Skipping /opt/homebrew/lib/python3.11/site-packages/filelock-3.13.1.dist-info due to invalid metadata entry 'name'\u001b[0m\u001b[33m\n",
      "\u001b[0m\u001b[33mWARNING: Skipping /opt/homebrew/lib/python3.11/site-packages/six-1.16.0-py3.11.egg-info due to invalid metadata entry 'name'\u001b[0m\u001b[33m\n",
      "\u001b[0m\u001b[33mWARNING: Skipping /opt/homebrew/lib/python3.11/site-packages/platformdirs-4.1.0.dist-info due to invalid metadata entry 'name'\u001b[0m\u001b[33m\n",
      "\u001b[0m\u001b[33mWARNING: Skipping /opt/homebrew/lib/python3.11/site-packages/filelock-3.13.1.dist-info due to invalid metadata entry 'name'\u001b[0m\u001b[33m\n",
      "\u001b[0m\u001b[33mWARNING: Skipping /opt/homebrew/lib/python3.11/site-packages/six-1.16.0-py3.11.egg-info due to invalid metadata entry 'name'\u001b[0m\u001b[33m\n",
      "\u001b[0m\u001b[33mWARNING: Skipping /opt/homebrew/lib/python3.11/site-packages/distlib-0.3.8.dist-info due to invalid metadata entry 'name'\u001b[0m\u001b[33m\n",
      "\u001b[0m\u001b[33mWARNING: Skipping /opt/homebrew/lib/python3.11/site-packages/platformdirs-4.1.0.dist-info due to invalid metadata entry 'name'\u001b[0m\u001b[33m\n",
      "\u001b[0m\u001b[33mWARNING: Skipping /opt/homebrew/lib/python3.11/site-packages/filelock-3.13.1.dist-info due to invalid metadata entry 'name'\u001b[0m\u001b[33m\n",
      "\u001b[0m\u001b[33mWARNING: Skipping /opt/homebrew/lib/python3.11/site-packages/six-1.16.0-py3.11.egg-info due to invalid metadata entry 'name'\u001b[0m\u001b[33m\n",
      "\u001b[0m\u001b[33mWARNING: Skipping /opt/homebrew/lib/python3.11/site-packages/distlib-0.3.8.dist-info due to invalid metadata entry 'name'\u001b[0m\u001b[33m\n",
      "\u001b[0m"
     ]
    }
   ],
   "source": [
    "## Let's install the requests right now\n",
    "!pip install requests\n"
   ]
  },
  {
   "cell_type": "markdown",
   "metadata": {},
   "source": [
    "## Creating the retriever"
   ]
  },
  {
   "cell_type": "code",
   "execution_count": 11,
   "metadata": {},
   "outputs": [],
   "source": [
    "import boto3\n",
    "\n",
    "## Size of the file here is 1.1MB\n",
    "\n",
    "# Initialize a Boto3 client for Amazon Q\n",
    "# Note: 'amazon_q' is a placeholder. Replace it with the actual client name if different.\n",
    "client = boto3.client('qbusiness', region_name='us-east-1')\n",
    "\n",
    "# Parameters for the retriever creation\n",
    "params = {\n",
    "    \"applicationId\": \"\",\n",
    "    # \"clientToken\": \"\",\n",
    "    \"configuration\": {\n",
    "        \"nativeIndexConfiguration\": {\n",
    "        \"indexId\": \"\" ## add your index id here\n",
    "    }\n",
    "    },\n",
    "    \"displayName\": \"nativefinancialretriever\",\n",
    "    \"roleArn\": \"\",\n",
    "    # \"tags\": [\n",
    "    #     {\"key\": \"Key1\", \"value\": \"Value1\"},\n",
    "    #     # Additional tags as needed\n",
    "    # ],\n",
    "    \"type\": \"NATIVE_INDEX\"  # or \"KENDRA_INDEX\"\n",
    "}\n",
    "\n",
    "# Create the retriever\n",
    "response = client.create_retriever(**params)\n",
    "\n",
    "# Print the response\n",
    "print(response)\n"
   ]
  },
  {
   "cell_type": "markdown",
   "metadata": {},
   "source": [
    "## Now create, a data source: In our case we will be using an S3 bucket object\n",
    "\n",
    "#### Please make sure your role exists, has `qbusiness.amazonaws.com` as trusted entity"
   ]
  },
  {
   "cell_type": "code",
   "execution_count": 15,
   "metadata": {},
   "outputs": [],
   "source": [
    "import boto3\n",
    "\n",
    "# Initialize a Boto3 client for Amazon Q\n",
    "client = boto3.client('qbusiness', region_name='us-east-1')\n",
    "\n",
    "# Define the configuration for your data source\n",
    "# Note: Replace 'your_configuration_details' with actual configuration details\n",
    "configuration = {\n",
    "    # Example configuration details\n",
    "    # This will vary based on your specific data source requirements\n",
    "    \"your_configuration_key\": \"your_configuration_value\"\n",
    "}\n",
    "\n",
    "# Parameters for the data source creation\n",
    "params = {\n",
    "    \"applicationId\": \"\",\n",
    "    \"indexId\": \"\",  # Replace with your actual index ID\n",
    "    \"displayName\": \"financialdocs2039\",\n",
    "    \"configuration\": configuration,  # Add the configuration details here\n",
    "    # \"type\": \"Your Data Source Type\",  # Uncomment and replace if necessary\n",
    "    # Include other required parameters\n",
    "}\n",
    "\n",
    "# Create the data source\n",
    "response = client.create_data_source(**params)\n",
    "\n",
    "# Print the response\n",
    "print(response)\n",
    "\n"
   ]
  },
  {
   "cell_type": "markdown",
   "metadata": {},
   "source": [
    "## Sync your data source that you have created"
   ]
  },
  {
   "cell_type": "code",
   "execution_count": 20,
   "metadata": {},
   "outputs": [
    {
     "name": "stdout",
     "output_type": "stream",
     "text": [
      "{'ResponseMetadata': {'RequestId': '42eec1e0-0ed0-4651-9119-4e6046414db9', 'HTTPStatusCode': 200, 'HTTPHeaders': {'x-amzn-requestid': '42eec1e0-0ed0-4651-9119-4e6046414db9', 'date': 'Mon, 01 Jan 2024 20:32:16 GMT', 'content-type': 'application/json', 'content-length': '54', 'connection': 'keep-alive'}, 'RetryAttempts': 0}, 'executionId': '1b22ccaf-2516-4491-8f2a-383944563480'}\n"
     ]
    }
   ],
   "source": [
    "import boto3\n",
    "\n",
    "# Initialize a Boto3 client for Amazon Q\n",
    "client = boto3.client('qbusiness', region_name='us-east-1')\n",
    "\n",
    "# Replace these with your actual application ID, data source ID, and index ID\n",
    "application_id = ''\n",
    "data_source_id = ''\n",
    "index_id = ''\n",
    "\n",
    "try:\n",
    "    # Start the data source sync job\n",
    "    response = client.start_data_source_sync_job(\n",
    "        applicationId=application_id,\n",
    "        dataSourceId=data_source_id,\n",
    "        indexId=index_id\n",
    "    )\n",
    "\n",
    "    # Print the response\n",
    "    print(response)\n",
    "except Exception as e:\n",
    "    # Handle any exceptions\n",
    "    print(f\"An error occurred: {e}\")\n"
   ]
  },
  {
   "cell_type": "markdown",
   "metadata": {},
   "source": [
    "## Now, let's create a web like experience"
   ]
  },
  {
   "cell_type": "code",
   "execution_count": 22,
   "metadata": {},
   "outputs": [],
   "source": [
    "import boto3\n",
    "\n",
    "# Initialize the Boto3 client for Amazon Q\n",
    "client = boto3.client('qbusiness', region_name='us-east-1')\n",
    "\n",
    "# Parameters for creating the web experience\n",
    "application_id = ''  # Replace with your actual application ID\n",
    "params = {\n",
    "    # \"clientToken\": \"optional-client-token\",  # Replace with your client token, if needed\n",
    "    \"samplePromptsControlMode\": \"ENABLED\",  # Or \"DISABLED\", as required\n",
    "    \"subtitle\": \"Chat about financial stocks\",\n",
    "    \"title\": \"Finance assistant\",\n",
    "    \"welcomeMessage\": \"Hi! Ask a question about finances.\",\n",
    "    # # Add tags if needed\n",
    "    # \"tags\": [\n",
    "    #     {\"key\": \"exampleKey\", \"value\": \"exampleValue\"}\n",
    "    #     # ... other tags as required\n",
    "    # ],\n",
    "}\n",
    "\n",
    "try:\n",
    "    # Create the web experience\n",
    "    response = client.create_web_experience(\n",
    "        applicationId=application_id,\n",
    "        **params\n",
    "    )\n",
    "\n",
    "    # Print the response\n",
    "    print(response)\n",
    "except Exception as e:\n",
    "    # Handle any exceptions\n",
    "    print(f\"An error occurred: {e}\")\n"
   ]
  },
  {
   "cell_type": "code",
   "execution_count": null,
   "metadata": {},
   "outputs": [],
   "source": []
  },
  {
   "cell_type": "markdown",
   "metadata": {},
   "source": []
  },
  {
   "cell_type": "markdown",
   "metadata": {},
   "source": []
  }
 ],
 "metadata": {
  "kernelspec": {
   "display_name": "Python 3",
   "language": "python",
   "name": "python3"
  },
  "language_info": {
   "codemirror_mode": {
    "name": "ipython",
    "version": 3
   },
   "file_extension": ".py",
   "mimetype": "text/x-python",
   "name": "python",
   "nbconvert_exporter": "python",
   "pygments_lexer": "ipython3",
   "version": "3.11.6"
  }
 },
 "nbformat": 4,
 "nbformat_minor": 2
}
