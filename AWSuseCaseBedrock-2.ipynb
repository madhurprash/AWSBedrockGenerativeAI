{
 "cells": [
  {
   "cell_type": "markdown",
   "metadata": {},
   "source": [
    "# AWS Service Data Use Case RAG + Titan ON Bedrock\n",
    "\n",
    "> *This notebook should work well with the **`Data Science 3.0`** kernel in SageMaker Studio*\n",
    "\n",
    "Question Answering (QA) is an important task that involves extracting answers to factual queries posed in natural language. Typically, a QA system processes a query against a knowledge base containing structured or unstructured data and generates a response with accurate information. Ensuring high accuracy is key to developing a useful, reliable and trustworthy question answering system, especially for enterprise use cases. \n",
    "\n",
    "Generative AI models like Titan and Claude use probability distributions to generate responses to questions. These models are trained on vast amounts of text data, which allows them to predict what comes next in a sequence or what word might follow a particular word. However, these models are not able to provide accurate or deterministic answers to every question because there is always some degree of uncertainty in the data. Enterprises need to query domain specific and proprietary data and use the information to answer questions, and more generally data on which the model has not been trained on. \n",
    "\n",
    "In this module, we will demonstrate how to use the Bedrock Titan model to provide information response to queries.\n",
    "\n",
    "In this example we will be running the Model with no context and then manually try and provide the context. There is no `RAG` augmentation happening here. This approach works with short documents or single-ton applications, it might not scale to enterprise level question answering where there could be large enterprise documents which cannot all be fit into the prompt sent to the model. \n",
    "\n",
    "### Challenges\n",
    "- How to have the model return factual answers for question\n",
    "\n",
    "### Proposal\n",
    "To the above challenges, this notebook proposes the following strategy\n",
    "#### Prepare documents\n",
    "Before being able to answer the questions, the documents must be processed and a stored in a document store index\n",
    "- Here we will send in the request with the full relevant context to the model and expect the response back\n"
   ]
  },
  {
   "cell_type": "markdown",
   "metadata": {},
   "source": [
    "## Setup\n",
    "\n",
    "Before running the rest of this notebook, you'll need to run the cells below to (ensure necessary libraries are installed and) connect to Bedrock.\n",
    "\n",
    "For more details on how the setup works and ⚠️ **whether you might need to make any changes**, refer to the [Bedrock boto3 setup notebook](../00_Intro/bedrock_boto3_setup.ipynb) notebook."
   ]
  },
  {
   "cell_type": "code",
   "execution_count": 56,
   "metadata": {
    "tags": []
   },
   "outputs": [
    {
     "name": "stdout",
     "output_type": "stream",
     "text": [
      "Looking in indexes: https://pypi.org/simple, https://pypi.ngc.nvidia.com\n",
      "Requirement already satisfied: pip in /opt/conda/lib/python3.10/site-packages (23.2.1)\n",
      "\u001b[33mWARNING: Running pip as the 'root' user can result in broken permissions and conflicting behaviour with the system package manager. It is recommended to use a virtual environment instead: https://pip.pypa.io/warnings/venv\u001b[0m\u001b[33m\n",
      "\u001b[0m"
     ]
    }
   ],
   "source": [
    "!pip install --upgrade pip\n"
   ]
  },
  {
   "cell_type": "code",
   "execution_count": 57,
   "metadata": {
    "tags": []
   },
   "outputs": [
    {
     "name": "stdout",
     "output_type": "stream",
     "text": [
      "\u001b[33mWARNING: Requirement '../dependencies/awscli-*-py3-none-any.whl' looks like a filename, but the file does not exist\u001b[0m\u001b[33m\n",
      "\u001b[0m\u001b[33mWARNING: Requirement '../dependencies/boto3-*-py3-none-any.whl' looks like a filename, but the file does not exist\u001b[0m\u001b[33m\n",
      "\u001b[0m\u001b[33mWARNING: Requirement '../dependencies/botocore-*-py3-none-any.whl' looks like a filename, but the file does not exist\u001b[0m\u001b[33m\n",
      "\u001b[0mLooking in indexes: https://pypi.org/simple, https://pypi.ngc.nvidia.com\n",
      "Processing /root/dependencies/awscli-*-py3-none-any.whl\n",
      "\u001b[31mERROR: Could not install packages due to an OSError: [Errno 2] No such file or directory: '/root/dependencies/awscli-*-py3-none-any.whl'\n",
      "\u001b[0m\u001b[31m\n",
      "\u001b[0mNote: you may need to restart the kernel to use updated packages.\n",
      "\u001b[33mWARNING: Running pip as the 'root' user can result in broken permissions and conflicting behaviour with the system package manager. It is recommended to use a virtual environment instead: https://pip.pypa.io/warnings/venv\u001b[0m\u001b[33m\n",
      "\u001b[0mNote: you may need to restart the kernel to use updated packages.\n"
     ]
    }
   ],
   "source": [
    "# Make sure you ran `download-dependencies.sh` from the root of the repository first!\n",
    "%pip install --no-build-isolation --force-reinstall \\\n",
    "    ../dependencies/awscli-*-py3-none-any.whl \\\n",
    "    ../dependencies/boto3-*-py3-none-any.whl \\\n",
    "    ../dependencies/botocore-*-py3-none-any.whl\n",
    "\n",
    "%pip install --quiet \"faiss-cpu>=1.7,<2\" langchain==0.0.249 \"pypdf>=3.8,<4\""
   ]
  },
  {
   "cell_type": "code",
   "execution_count": 58,
   "metadata": {
    "tags": []
   },
   "outputs": [
    {
     "name": "stdout",
     "output_type": "stream",
     "text": [
      "sagemaker.config INFO - Not applying SDK defaults from location: /etc/xdg/sagemaker/config.yaml\n",
      "sagemaker.config INFO - Not applying SDK defaults from location: /root/.config/sagemaker/config.yaml\n",
      "arn:aws:iam::218208277580:role/service-role/AmazonSageMaker-ExecutionRole-20230807T175994\n"
     ]
    }
   ],
   "source": [
    "import os\n",
    "from sagemaker import get_execution_role\n",
    "\n",
    "role = get_execution_role()\n",
    "print(role)\n",
    "\n",
    "os.environ['BEDROCK_ASSUME_ROLE'] = role"
   ]
  },
  {
   "cell_type": "code",
   "execution_count": 59,
   "metadata": {
    "tags": []
   },
   "outputs": [
    {
     "name": "stdout",
     "output_type": "stream",
     "text": [
      "/root/amazon-bedrock-workshop\n"
     ]
    }
   ],
   "source": [
    "import json\n",
    "import os\n",
    "import sys\n",
    "\n",
    "import boto3\n",
    "\n",
    "module_path = \".\"\n",
    "sys.path.append(os.path.abspath(module_path))\n",
    "\n",
    "print(os.path.abspath(module_path))\n",
    "from utils import bedrock, print_ww"
   ]
  },
  {
   "cell_type": "code",
   "execution_count": 60,
   "metadata": {
    "tags": []
   },
   "outputs": [
    {
     "name": "stdout",
     "output_type": "stream",
     "text": [
      "Looking in indexes: https://pypi.org/simple, https://pypi.ngc.nvidia.com\n",
      "Requirement already satisfied: boto3 in /opt/conda/lib/python3.10/site-packages (1.28.57)\n",
      "Requirement already satisfied: botocore<1.32.0,>=1.31.57 in /opt/conda/lib/python3.10/site-packages (from boto3) (1.31.57)\n",
      "Requirement already satisfied: jmespath<2.0.0,>=0.7.1 in /opt/conda/lib/python3.10/site-packages (from boto3) (0.10.0)\n",
      "Requirement already satisfied: s3transfer<0.8.0,>=0.7.0 in /opt/conda/lib/python3.10/site-packages (from boto3) (0.7.0)\n",
      "Requirement already satisfied: python-dateutil<3.0.0,>=2.1 in /opt/conda/lib/python3.10/site-packages (from botocore<1.32.0,>=1.31.57->boto3) (2.8.2)\n",
      "Requirement already satisfied: urllib3<1.27,>=1.25.4 in /opt/conda/lib/python3.10/site-packages (from botocore<1.32.0,>=1.31.57->boto3) (1.26.16)\n",
      "Requirement already satisfied: six>=1.5 in /opt/conda/lib/python3.10/site-packages (from python-dateutil<3.0.0,>=2.1->botocore<1.32.0,>=1.31.57->boto3) (1.16.0)\n",
      "\u001b[33mWARNING: Running pip as the 'root' user can result in broken permissions and conflicting behaviour with the system package manager. It is recommended to use a virtual environment instead: https://pip.pypa.io/warnings/venv\u001b[0m\u001b[33m\n",
      "\u001b[0m"
     ]
    }
   ],
   "source": [
    "!pip install --upgrade boto3"
   ]
  },
  {
   "cell_type": "code",
   "execution_count": 61,
   "metadata": {
    "tags": []
   },
   "outputs": [
    {
     "name": "stdout",
     "output_type": "stream",
     "text": [
      "Create new client\n",
      "  Using region: us-east-1\n",
      "boto3 Bedrock client successfully created!\n",
      "bedrock-runtime(https://bedrock-runtime.us-east-1.amazonaws.com)\n"
     ]
    }
   ],
   "source": [
    "import json\n",
    "import os\n",
    "import sys\n",
    "\n",
    "import boto3\n",
    "\n",
    "module_path = \".\"\n",
    "sys.path.append(os.path.abspath(module_path))\n",
    "from utils import bedrock, print_ww\n",
    "\n",
    "\n",
    "boto3_bedrock = bedrock.get_bedrock_client(\n",
    ")"
   ]
  },
  {
   "cell_type": "markdown",
   "metadata": {},
   "source": [
    "## Section 1: Q&A with the knowledge of the model\n",
    "In this section we try to use models provided by Bedrock service to answer questions based on the knowledge it gained during the training phase."
   ]
  },
  {
   "cell_type": "markdown",
   "metadata": {},
   "source": [
    "In this Notebook we will be using the `invoke_model()` method of Amazon Bedrock client. The mandatory parameters required to use this method are `modelId` which represents the Amazon Bedrock model ARN, and `body` which is the prompt for our task. The `body` prompt changes depending on the foundation model provider selected. We walk through this in detail below\n",
    "\n",
    "```\n",
    "{\n",
    "   modelId= model_id,\n",
    "   contentType= \"application/json\",\n",
    "   accept= \"application/json\",\n",
    "   body=body\n",
    "}\n",
    "\n",
    "```"
   ]
  },
  {
   "cell_type": "markdown",
   "metadata": {},
   "source": [
    "\n",
    "## Configure langchain\n",
    "\n",
    "We will begin to use langchain with titan\n",
    "\n",
    "`llm = Bedrock(model_id=\"amazon.titan-tg1-large\")`\n",
    "\n",
    "Available model IDs include:\n",
    "\n",
    "- `amazon.titan-tg1-large`\n",
    "- `ai21.j2-grande-instruct`\n",
    "- `ai21.j2-jumbo-instruct`\n",
    "- `anthropic.claude-instant-v1`\n",
    "- `anthropic.claude-v1`"
   ]
  },
  {
   "cell_type": "code",
   "execution_count": 62,
   "metadata": {
    "tags": []
   },
   "outputs": [
    {
     "name": "stdout",
     "output_type": "stream",
     "text": [
      "Create new client\n",
      "  Using region: us-east-1\n",
      "boto3 Bedrock client successfully created!\n",
      "bedrock-runtime(https://bedrock-runtime.us-east-1.amazonaws.com)\n"
     ]
    }
   ],
   "source": [
    "import json\n",
    "import os\n",
    "import sys\n",
    "\n",
    "import boto3\n",
    "\n",
    "module_path = \".\"\n",
    "sys.path.append(os.path.abspath(module_path))\n",
    "from utils import bedrock, print_ww\n",
    "\n",
    "\n",
    "\n",
    "boto3_bedrock = bedrock.get_bedrock_client(\n",
    ")"
   ]
  },
  {
   "cell_type": "code",
   "execution_count": 63,
   "metadata": {
    "tags": []
   },
   "outputs": [
    {
     "name": "stdout",
     "output_type": "stream",
     "text": [
      "Looking in indexes: https://pypi.org/simple, https://pypi.ngc.nvidia.com\n",
      "Requirement already satisfied: FAISS-gpu in /opt/conda/lib/python3.10/site-packages (1.7.2)\n",
      "\u001b[33mWARNING: Running pip as the 'root' user can result in broken permissions and conflicting behaviour with the system package manager. It is recommended to use a virtual environment instead: https://pip.pypa.io/warnings/venv\u001b[0m\u001b[33m\n",
      "\u001b[0m"
     ]
    }
   ],
   "source": [
    "!pip install FAISS-gpu"
   ]
  },
  {
   "cell_type": "markdown",
   "metadata": {},
   "source": [
    "## Configure langchain\n",
    "\n",
    "We begin with instantiating the LLM and the Embeddings model. Here we are using Anthropic Claude for text generation and Amazon Titan for text embedding.\n",
    "\n",
    "Note: It is possible to choose other models available with Bedrock. You can replace the `model_id` as follows to change the model.\n",
    "\n",
    "`llm = Bedrock(model_id=\"amazon.titan-tg1-large\")`\n",
    "\n",
    "Available model IDs include:\n",
    "\n",
    "- `amazon.titan-tg1-large`\n",
    "- `ai21.j2-grande-instruct`\n",
    "- `ai21.j2-jumbo-instruct`\n",
    "- `anthropic.claude-instant-v1`\n",
    "- `anthropic.claude-v1`"
   ]
  },
  {
   "cell_type": "code",
   "execution_count": 64,
   "metadata": {
    "tags": []
   },
   "outputs": [],
   "source": [
    "# We will be using the Titan Embeddings Model to generate our Embeddings.\n",
    "from langchain.embeddings import BedrockEmbeddings\n",
    "from langchain.llms.bedrock import Bedrock\n",
    "\n",
    "# Here, we are creating our claude model v2\n",
    "llm = Bedrock(model_id=\"anthropic.claude-v2\", client=boto3_bedrock, model_kwargs={'max_tokens_to_sample':2000, 'temperature':0})\n",
    "bedrock_embeddings = BedrockEmbeddings(client=boto3_bedrock)"
   ]
  },
  {
   "cell_type": "markdown",
   "metadata": {},
   "source": [
    "### Now, we will generate bedrock embeddings using the titan embeddings model!"
   ]
  },
  {
   "cell_type": "code",
   "execution_count": 65,
   "metadata": {
    "tags": []
   },
   "outputs": [
    {
     "data": {
      "text/plain": [
       "BedrockEmbeddingsCustom(client=<botocore.client.BedrockRuntime object at 0x7fe68f35f580>, region_name=None, credentials_profile_name=None, model_id='amazon.titan-e1t-medium', model_kwargs=None, endpoint_url=None)"
      ]
     },
     "execution_count": 65,
     "metadata": {},
     "output_type": "execute_result"
    }
   ],
   "source": [
    "import traceback\n",
    "import time\n",
    "from typing import Any, Dict, List, Optional\n",
    "class BedrockEmbeddingsCustom(BedrockEmbeddings):\n",
    "    \n",
    "    def embed_documents(self, texts: List[str]) -> List[List[float]]:\n",
    "        \"\"\"Compute doc embeddings using a Bedrock model.\n",
    "\n",
    "        Args:\n",
    "            texts: The list of texts to embed\n",
    "\n",
    "        Returns:\n",
    "            List of embeddings, one for each text.\n",
    "        \"\"\"\n",
    "        print(f\"BedrockEmbeddingsCustom: embed_docs():: lenght of texts={len(texts)}::\")\n",
    "        results = []\n",
    "        counter = 1\n",
    "        errors = []\n",
    "        for text in texts:\n",
    "            try:\n",
    "                response = self._embedding_func(text)\n",
    "                results.append(response)\n",
    "                #print(f\"BedrockEmbeddingsCustom: embed_docs()::processed doc_{counter}:\")\n",
    "                counter+=1\n",
    "            except:\n",
    "                print(f\"BedrockEmbeddingsCustom: ERROR ={traceback.format_exc()}:: WAITING for 20 SEC\")\n",
    "                time.sleep(20) # 20 sec\n",
    "                errors.append(text)\n",
    "        \n",
    "        print(f\"BedrockEmbeddingsCustom: embed_docs(): TRYING Errors now:len={len(errors)}:\")\n",
    "        for text in errors:\n",
    "            print(f\"BedrockEmbeddingsCustom: embed_docs(): error :text={text}:\")\n",
    "            try:\n",
    "                response = self._embedding_func(text)\n",
    "                results.append(response)\n",
    "                #print(f\"BedrockEmbeddingsCustom: embed_docs()::processed doc_{counter}:\")\n",
    "                counter+=1\n",
    "            except:\n",
    "                print(f\"BedrockEmbeddingsCustom: ERROR ={text}:: WAITING for 20 SEC\")\n",
    "                time.sleep(20) # 20 sec\n",
    "                    \n",
    "        return results\n",
    "    \n",
    "bedrock_embeddings = BedrockEmbeddingsCustom(client=boto3_bedrock)\n",
    "bedrock_embeddings"
   ]
  },
  {
   "cell_type": "markdown",
   "metadata": {},
   "source": [
    "## Preparing the Data: Chunk, embed and create vectors from your PDF data"
   ]
  },
  {
   "cell_type": "code",
   "execution_count": 46,
   "metadata": {
    "tags": []
   },
   "outputs": [
    {
     "name": "stdout",
     "output_type": "stream",
     "text": [
      "Looking in indexes: https://pypi.org/simple, https://pypi.ngc.nvidia.com\n",
      "Collecting tiktoken\n",
      "  Obtaining dependency information for tiktoken from https://files.pythonhosted.org/packages/f4/2e/0adf6e264b996e263b1c57cad6560ffd5492a69beb9fd779ed0463d486bc/tiktoken-0.5.1-cp310-cp310-manylinux_2_17_x86_64.manylinux2014_x86_64.whl.metadata\n",
      "  Downloading tiktoken-0.5.1-cp310-cp310-manylinux_2_17_x86_64.manylinux2014_x86_64.whl.metadata (6.6 kB)\n",
      "Requirement already satisfied: regex>=2022.1.18 in /opt/conda/lib/python3.10/site-packages (from tiktoken) (2022.7.9)\n",
      "Requirement already satisfied: requests>=2.26.0 in /opt/conda/lib/python3.10/site-packages (from tiktoken) (2.31.0)\n",
      "Requirement already satisfied: charset-normalizer<4,>=2 in /opt/conda/lib/python3.10/site-packages (from requests>=2.26.0->tiktoken) (2.0.4)\n",
      "Requirement already satisfied: idna<4,>=2.5 in /opt/conda/lib/python3.10/site-packages (from requests>=2.26.0->tiktoken) (3.3)\n",
      "Requirement already satisfied: urllib3<3,>=1.21.1 in /opt/conda/lib/python3.10/site-packages (from requests>=2.26.0->tiktoken) (1.26.16)\n",
      "Requirement already satisfied: certifi>=2017.4.17 in /opt/conda/lib/python3.10/site-packages (from requests>=2.26.0->tiktoken) (2023.7.22)\n",
      "Downloading tiktoken-0.5.1-cp310-cp310-manylinux_2_17_x86_64.manylinux2014_x86_64.whl (2.0 MB)\n",
      "\u001b[2K   \u001b[90m━━━━━━━━━━━━━━━━━━━━━━━━━━━━━━━━━━━━━━━━\u001b[0m \u001b[32m2.0/2.0 MB\u001b[0m \u001b[31m88.9 MB/s\u001b[0m eta \u001b[36m0:00:00\u001b[0m\n",
      "\u001b[?25hInstalling collected packages: tiktoken\n",
      "Successfully installed tiktoken-0.5.1\n",
      "\u001b[33mWARNING: Running pip as the 'root' user can result in broken permissions and conflicting behaviour with the system package manager. It is recommended to use a virtual environment instead: https://pip.pypa.io/warnings/venv\u001b[0m\u001b[33m\n",
      "\u001b[0m"
     ]
    }
   ],
   "source": [
    "!pip install tiktoken"
   ]
  },
  {
   "cell_type": "code",
   "execution_count": 66,
   "metadata": {
    "tags": []
   },
   "outputs": [],
   "source": [
    "import glob\n",
    "from langchain.document_loaders import PyPDFLoader\n",
    "from langchain.text_splitter import RecursiveCharacterTextSplitter\n",
    "\n",
    "tiktoken_splitter = RecursiveCharacterTextSplitter.from_tiktoken_encoder(\n",
    "    chunk_size=500, chunk_overlap=0\n",
    ")\n",
    "pdf_docs = [doc for pdf in glob.glob('dataAWS/*.pdf') for doc in PyPDFLoader(pdf).load_and_split(tiktoken_splitter)  ]"
   ]
  },
  {
   "cell_type": "markdown",
   "metadata": {},
   "source": [
    "## Now, that we are splitting the documents using langchain, let's look at some stats"
   ]
  },
  {
   "cell_type": "code",
   "execution_count": 67,
   "metadata": {
    "tags": []
   },
   "outputs": [
    {
     "name": "stdout",
     "output_type": "stream",
     "text": [
      "Average length among 10 documents loaded is 2452 characters.\n",
      "After the split we have 17 documents more than the original 10.\n",
      "Average length among 17 documents (after split) is 1442 characters.\n"
     ]
    }
   ],
   "source": [
    "avg_doc_length = lambda documents: sum([len(doc.page_content) for doc in documents])//len(documents)\n",
    "avg_char_count_pre = avg_doc_length(documents)\n",
    "avg_char_count_post = avg_doc_length(pdf_docs)\n",
    "print(f'Average length among {len(documents)} documents loaded is {avg_char_count_pre} characters.')\n",
    "print(f'After the split we have {len(pdf_docs)} documents more than the original {len(documents)}.')\n",
    "print(f'Average length among {len(pdf_docs)} documents (after split) is {avg_char_count_post} characters.')"
   ]
  },
  {
   "cell_type": "markdown",
   "metadata": {},
   "source": [
    "### From the data above, we have split the length across 34 documents and loaded into 2858 characters. Now, let's go ahead bedrock embeddings from these chunks of data that we have"
   ]
  },
  {
   "cell_type": "code",
   "execution_count": 73,
   "metadata": {
    "tags": []
   },
   "outputs": [],
   "source": [
    "prompt = \"\"\"\n",
    "\n",
    "Human: Please provide a summary of the following text.\n",
    "<text>\n",
    "Multi Account Strategy\n",
    "\n",
    "Tagging \n",
    "\n",
    "* Use to organize resources. Helps with billing to break down costs, automation, and acces control.\n",
    "* Tag Categories (technical tags, business tags, tags for automation, security tags).\n",
    "* Best practices: standardized, case-sensitive, consistent across resources, leverage tools(resource groups).\n",
    "\n",
    "Disaster Recovery\n",
    "\n",
    "Disaster Recovery Strategies\n",
    "\n",
    "* Pilot Light → DBs ready and data replication, create other resources when it’s time(VMs).\n",
    "* Warm Standby → DBs ready and data replication, other resources operational but scaled down.\n",
    "* The difference between Pilot Light and Warm Standby can sometimes be difficult to understand. Both include an environment in your DR Region with copies of your primary region assets. The distinction is that Pilot Light cannot process requests without additional action taken first, while Warm Standby can handle traffic (at reduced capacity levels) immediately.\n",
    "\n",
    "Elastic Disaster Recovery\n",
    "\n",
    "* Minimizes downtime and data loss with fast, reliable recovery of on-premises and cloud-based applications using affordable storage, minimal compute, and point-in-time recovery.\n",
    "* Use cases: a) On-premises to AWS b) Cloud to AWS c) AWS Region to AWS Region\n",
    "\n",
    "Identity and Access Management\n",
    "\n",
    "AWS IAM Identity Center\n",
    "\n",
    "* Supports only SAML 2.0–based applications so an OpenID Connect-compatible solution will not work.\n",
    "\n",
    "Simple AD\n",
    "\n",
    "* Subset of Microsoft AD.\n",
    "\n",
    "Managed Microsoft AD\n",
    "\n",
    "* Configure a trust relationship between AWS Managed Microsoft AD in the AWS Cloud and your existing on-premises Microsoft Active Directory, providing users and groups with access to resources in either domain, using single sign-on (SSO).\n",
    "\n",
    "Microsoft AD connector\n",
    "\n",
    "* In case you want to connect to on premises AD.\n",
    "\n",
    "Identity Federation\n",
    "\n",
    "* Identity federation with SAML 2.0 enables federated single sign-on (SSO). You can use a third-party SAML IdP to establish SSO access to the console or you can create a custom IdP to enable console access for your external users.\n",
    "* Before you can use SAML 2.0-based federation, you must configure your organization’s IdP and your AWS account to trust each other. Inside your organization, you must have an IdP that supports SAML 2.0, like Microsoft Active Directory Federation Service (AD FS, part of Windows Server). In your organization’s IdP, you define assertions that map users or groups in your organization to the IAM roles.\n",
    "* When you create the trust policy for the role, you specify the SAML provider that you created earlier as the Principal.\n",
    "* Flow: LDAP → STS → AWS access. \n",
    "* Web Identity Federation with AssumeRoleWithWebIdentity API → STS → AWS resources.\n",
    "\n",
    "Create SAML Identity provider in IAM\n",
    "\n",
    "1. Get the SAML metadata document from IdP.\n",
    "2. Create SAML IAM identity provider.\n",
    "3. Configure SAML IdP with relying party trust.\n",
    "4. In IdP, configure SAML Assertions for the authentication response.\n",
    "\n",
    "\n",
    "</text>\n",
    "\n",
    "Assistant:\"\"\""
   ]
  },
  {
   "cell_type": "markdown",
   "metadata": {},
   "source": [
    "Creating request body with prompt and inference parameters\n",
    "\n",
    "Following the request syntax of invoke_model, you create request body with the above prompt and inference parameters."
   ]
  },
  {
   "cell_type": "code",
   "execution_count": 74,
   "metadata": {
    "tags": []
   },
   "outputs": [],
   "source": [
    "body = json.dumps({\"prompt\": prompt,\n",
    "                 \"max_tokens_to_sample\":4096,\n",
    "                 \"temperature\":0.5,\n",
    "                 \"top_k\":250,\n",
    "                 \"top_p\":0.5,\n",
    "                 \"stop_sequences\":[]\n",
    "                  }) "
   ]
  },
  {
   "cell_type": "markdown",
   "metadata": {},
   "source": [
    "### Invoke foundation model via Boto3\n",
    "\n",
    "Here sends the API request to Amazon Bedrock with specifying request parameters modelId, accept, and contentType. Following the prompt, the foundation model in Amazon Bedrock summarizes the text."
   ]
  },
  {
   "cell_type": "code",
   "execution_count": 75,
   "metadata": {
    "tags": []
   },
   "outputs": [
    {
     "name": "stdout",
     "output_type": "stream",
     "text": [
      " Here is a summary of the key points from the text:\n",
      "\n",
      "- Using multiple AWS accounts helps organize resources for billing, automation, and access control.\n",
      "Best practices include standardized and consistent tagging.\n",
      "\n",
      "- Disaster recovery strategies include Pilot Light (minimal always-on resources), Warm Standby\n",
      "(scaled-down operational resources), and Elastic Disaster Recovery (for fast recovery using storage\n",
      "and point-in-time recovery).\n",
      "\n",
      "- AWS IAM options for identity and access management include Identity Center (SAML-based), Simple\n",
      "AD, Managed Microsoft AD, and AD Connector.\n",
      "\n",
      "- Identity federation with SAML enables single sign-on. Steps include getting SAML metadata from\n",
      "IdP, creating IAM identity provider, configuring IdP trust, and configuring IdP assertions.\n"
     ]
    }
   ],
   "source": [
    "modelId = 'anthropic.claude-v2' # change this to use a different version from the model provider\n",
    "accept = 'application/json'\n",
    "contentType = 'application/json'\n",
    "\n",
    "response = boto3_bedrock.invoke_model(body=body, modelId=modelId, accept=accept, contentType=contentType)\n",
    "response_body = json.loads(response.get('body').read())\n",
    "\n",
    "print_ww(response_body.get('completion'))"
   ]
  },
  {
   "cell_type": "markdown",
   "metadata": {},
   "source": [
    "## PROMPT Engineering #1: Simple context giving and human assistant looping"
   ]
  },
  {
   "cell_type": "code",
   "execution_count": 77,
   "metadata": {
    "tags": []
   },
   "outputs": [],
   "source": [
    "prompt = \"\"\"\n",
    "\n",
    "Human: You are an AWS cloud advisor. Provide a helpful summary with actions users can take to focus on multi account strategy and IAM identity center. \n",
    "<text>\n",
    "Multi Account Strategy\n",
    "\n",
    "Tagging \n",
    "\n",
    "* Use to organize resources. Helps with billing to break down costs, automation, and acces control.\n",
    "* Tag Categories (technical tags, business tags, tags for automation, security tags).\n",
    "* Best practices: standardized, case-sensitive, consistent across resources, leverage tools(resource groups).\n",
    "\n",
    "Disaster Recovery\n",
    "\n",
    "Disaster Recovery Strategies\n",
    "\n",
    "* Pilot Light → DBs ready and data replication, create other resources when it’s time(VMs).\n",
    "* Warm Standby → DBs ready and data replication, other resources operational but scaled down.\n",
    "* The difference between Pilot Light and Warm Standby can sometimes be difficult to understand. Both include an environment in your DR Region with copies of your primary region assets. The distinction is that Pilot Light cannot process requests without additional action taken first, while Warm Standby can handle traffic (at reduced capacity levels) immediately.\n",
    "\n",
    "Elastic Disaster Recovery\n",
    "\n",
    "* Minimizes downtime and data loss with fast, reliable recovery of on-premises and cloud-based applications using affordable storage, minimal compute, and point-in-time recovery.\n",
    "* Use cases: a) On-premises to AWS b) Cloud to AWS c) AWS Region to AWS Region\n",
    "\n",
    "Identity and Access Management\n",
    "\n",
    "AWS IAM Identity Center\n",
    "\n",
    "* Supports only SAML 2.0–based applications so an OpenID Connect-compatible solution will not work.\n",
    "\n",
    "Simple AD\n",
    "\n",
    "* Subset of Microsoft AD.\n",
    "\n",
    "Managed Microsoft AD\n",
    "\n",
    "* Configure a trust relationship between AWS Managed Microsoft AD in the AWS Cloud and your existing on-premises Microsoft Active Directory, providing users and groups with access to resources in either domain, using single sign-on (SSO).\n",
    "\n",
    "Microsoft AD connector\n",
    "\n",
    "* In case you want to connect to on premises AD.\n",
    "\n",
    "Identity Federation\n",
    "\n",
    "* Identity federation with SAML 2.0 enables federated single sign-on (SSO). You can use a third-party SAML IdP to establish SSO access to the console or you can create a custom IdP to enable console access for your external users.\n",
    "* Before you can use SAML 2.0-based federation, you must configure your organization’s IdP and your AWS account to trust each other. Inside your organization, you must have an IdP that supports SAML 2.0, like Microsoft Active Directory Federation Service (AD FS, part of Windows Server). In your organization’s IdP, you define assertions that map users or groups in your organization to the IAM roles.\n",
    "* When you create the trust policy for the role, you specify the SAML provider that you created earlier as the Principal.\n",
    "* Flow: LDAP → STS → AWS access. \n",
    "* Web Identity Federation with AssumeRoleWithWebIdentity API → STS → AWS resources.\n",
    "\n",
    "Create SAML Identity provider in IAM\n",
    "\n",
    "1. Get the SAML metadata document from IdP.\n",
    "2. Create SAML IAM identity provider.\n",
    "3. Configure SAML IdP with relying party trust.\n",
    "4. In IdP, configure SAML Assertions for the authentication response.\n",
    "\n",
    "\n",
    "</text>\n",
    "\n",
    "Follow the instructions below to summarize \n",
    "<instructions>\n",
    "- The summary should incorporate analogies and examples for users.\n",
    "- Add metaphorical examples to have users understand the importance of AWS.\n",
    "- Make sure to add a full stop after each sentence\n",
    "- Ask the user if you can help with anything else\n",
    "</instructions>\n",
    "\n",
    "Assistant:\"\"\""
   ]
  },
  {
   "cell_type": "code",
   "execution_count": 78,
   "metadata": {
    "tags": []
   },
   "outputs": [],
   "source": [
    "body = json.dumps({\"prompt\": prompt,\n",
    "                 \"max_tokens_to_sample\":4096,\n",
    "                 \"temperature\":0.5,\n",
    "                 \"top_k\":250,\n",
    "                 \"top_p\":0.5,\n",
    "                 \"stop_sequences\":[]\n",
    "                  }) "
   ]
  },
  {
   "cell_type": "code",
   "execution_count": 79,
   "metadata": {
    "tags": []
   },
   "outputs": [
    {
     "name": "stdout",
     "output_type": "stream",
     "text": [
      " Here is a helpful summary with analogies, examples, and actions for users to focus on multi-account\n",
      "strategy and IAM identity center in AWS:\n",
      "\n",
      "Managing multiple AWS accounts is like having separate bank accounts for your personal finances,\n",
      "business finances, and savings. It helps you organize costs, control access, and mitigate risk. For\n",
      "example, if your business account gets hacked, your personal account stays secure. Some good\n",
      "practices are using clear naming conventions for accounts like \"companyname-prod\" and tagging\n",
      "accounts for automation.\n",
      "\n",
      "Identity and access management is like having security badges to enter different floors of an office\n",
      "building. AWS IAM Identity Center is the security guard managing the badges. He only issues badges\n",
      "compatible with magnetic stripe readers, so your fancy new RFID badge won’t work. You can get a\n",
      "basic badge made quickly with Simple AD or a more advanced smart badge integrated with your existing\n",
      "badges using Microsoft AD. If you have on-premises badge readers, use the AD connector.\n",
      "\n",
      "To set up identity federation with SAML 2.0, work with your identity provider to configure trust\n",
      "between them and AWS. This is like the office building owner and security company establishing trust\n",
      "so badges issued by the security company grant access to the building. Make sure to get the SAML\n",
      "metadata document from your IdP like a security badge template.\n",
      "\n",
      "Let me know if you need any clarification or have additional questions!\n"
     ]
    }
   ],
   "source": [
    "modelId = 'anthropic.claude-v2' # change this to use a different version from the model provider\n",
    "accept = 'application/json'\n",
    "contentType = 'application/json'\n",
    "\n",
    "response = boto3_bedrock.invoke_model(body=body, modelId=modelId, accept=accept, contentType=contentType)\n",
    "response_body = json.loads(response.get('body').read())\n",
    "\n",
    "print_ww(response_body.get('completion'))"
   ]
  },
  {
   "cell_type": "markdown",
   "metadata": {},
   "source": [
    "## PROMPT ENGINEERING TECHNIQUE #3 - Now, let's focus on another technique to engineer this, by giving CLAUDE 'ROOM TO THINK'"
   ]
  },
  {
   "cell_type": "code",
   "execution_count": 83,
   "metadata": {
    "tags": []
   },
   "outputs": [],
   "source": [
    "prompt = \"\"\"\n",
    "\n",
    "Human: You are an AWS cloud advisor. Provide a helpful summary with actions users can take to focus on multi account strategy and IAM identity center. \n",
    "<text>\n",
    "Multi Account Strategy\n",
    "\n",
    "Tagging \n",
    "\n",
    "* Use to organize resources. Helps with billing to break down costs, automation, and acces control.\n",
    "* Tag Categories (technical tags, business tags, tags for automation, security tags).\n",
    "* Best practices: standardized, case-sensitive, consistent across resources, leverage tools(resource groups).\n",
    "\n",
    "Disaster Recovery\n",
    "\n",
    "Disaster Recovery Strategies\n",
    "\n",
    "* Pilot Light → DBs ready and data replication, create other resources when it’s time(VMs).\n",
    "* Warm Standby → DBs ready and data replication, other resources operational but scaled down.\n",
    "* The difference between Pilot Light and Warm Standby can sometimes be difficult to understand. Both include an environment in your DR Region with copies of your primary region assets. The distinction is that Pilot Light cannot process requests without additional action taken first, while Warm Standby can handle traffic (at reduced capacity levels) immediately.\n",
    "\n",
    "Elastic Disaster Recovery\n",
    "\n",
    "* Minimizes downtime and data loss with fast, reliable recovery of on-premises and cloud-based applications using affordable storage, minimal compute, and point-in-time recovery.\n",
    "* Use cases: a) On-premises to AWS b) Cloud to AWS c) AWS Region to AWS Region\n",
    "\n",
    "Identity and Access Management\n",
    "\n",
    "AWS IAM Identity Center\n",
    "\n",
    "* Supports only SAML 2.0–based applications so an OpenID Connect-compatible solution will not work.\n",
    "\n",
    "Simple AD\n",
    "\n",
    "* Subset of Microsoft AD.\n",
    "\n",
    "Managed Microsoft AD\n",
    "\n",
    "* Configure a trust relationship between AWS Managed Microsoft AD in the AWS Cloud and your existing on-premises Microsoft Active Directory, providing users and groups with access to resources in either domain, using single sign-on (SSO).\n",
    "\n",
    "Microsoft AD connector\n",
    "\n",
    "* In case you want to connect to on premises AD.\n",
    "\n",
    "Identity Federation\n",
    "\n",
    "* Identity federation with SAML 2.0 enables federated single sign-on (SSO). You can use a third-party SAML IdP to establish SSO access to the console or you can create a custom IdP to enable console access for your external users.\n",
    "* Before you can use SAML 2.0-based federation, you must configure your organization’s IdP and your AWS account to trust each other. Inside your organization, you must have an IdP that supports SAML 2.0, like Microsoft Active Directory Federation Service (AD FS, part of Windows Server). In your organization’s IdP, you define assertions that map users or groups in your organization to the IAM roles.\n",
    "* When you create the trust policy for the role, you specify the SAML provider that you created earlier as the Principal.\n",
    "* Flow: LDAP → STS → AWS access. \n",
    "* Web Identity Federation with AssumeRoleWithWebIdentity API → STS → AWS resources.\n",
    "\n",
    "Create SAML Identity provider in IAM\n",
    "\n",
    "1. Get the SAML metadata document from IdP.\n",
    "2. Create SAML IAM identity provider.\n",
    "3. Configure SAML IdP with relying party trust.\n",
    "4. In IdP, configure SAML Assertions for the authentication response.\n",
    "\n",
    "\n",
    "</text>\n",
    "\n",
    "Follow the instructions below to summarize \n",
    "<instructions>\n",
    "- The summary should incorporate analogies and examples for users.\n",
    "- Add metaphorical examples to have users understand the importance of AWS.\n",
    "- Make sure to add a full stop after each sentence\n",
    "- Ask the user if you can help with anything else\n",
    "</instructions>\n",
    "\n",
    "Assistant: Can I think step by step?\n",
    "\n",
    "Human: Yes. Think step by step and for each step, think out aloud by mentioning it in the <thinking> </thinking> xml tags to show what you are thinking. Give the summary in the <summary></summary> xml tags.\n",
    "\n",
    "Assistant:\"\"\""
   ]
  },
  {
   "cell_type": "code",
   "execution_count": 81,
   "metadata": {
    "tags": []
   },
   "outputs": [],
   "source": [
    "body = json.dumps({\"prompt\": prompt,\n",
    "                 \"max_tokens_to_sample\":4096,\n",
    "                 \"temperature\":0.5,\n",
    "                 \"top_k\":250,\n",
    "                 \"top_p\":0.5,\n",
    "                 \"stop_sequences\":[]\n",
    "                  }) "
   ]
  },
  {
   "cell_type": "code",
   "execution_count": 82,
   "metadata": {
    "tags": []
   },
   "outputs": [
    {
     "name": "stdout",
     "output_type": "stream",
     "text": [
      " <thinking>\n",
      "Okay, let's break this down:\n",
      "First, I'll summarize the key points on multi-account strategy:\n",
      "</thinking>\n",
      "\n",
      "<summary>\n",
      "To implement a solid multi-account strategy on AWS, it's important to use tagging to organize\n",
      "resources and enable automation. For example, tagging servers by department like \"Finance\" or\n",
      "\"Engineering\" helps track costs and control access. Standardized, consistent tagging is best\n",
      "practice. It's also critical to plan for disaster recovery across accounts. Options like pilot\n",
      "light, warm standby, and elastic disaster recovery balance cost, recovery time, and complexity. For\n",
      "instance, a pilot light design keeps databases ready to replicate data, spinning up virtual machines\n",
      "only when needed. This minimizes constant resource usage.\n",
      "</summary>\n",
      "\n",
      "<thinking>\n",
      "Next, I'll cover the main points on IAM identity center:\n",
      "</thinking>\n",
      "\n",
      "<summary>\n",
      "AWS IAM Identity Center is suited for SAML-based SSO, not OpenID Connect. For basic Active Directory\n",
      "integration, AWS offers Simple AD or Managed Microsoft AD. The Microsoft AD connector links on-\n",
      "premises AD to AWS. Identity federation with SAML provides SSO access to the console and resources.\n",
      "First, the identity provider and AWS account are configured to trust each other. Then users are\n",
      "mapped to IAM roles via assertions. The user authenticates through the identity provider, gets\n",
      "temporary credentials from AWS STS, and gains access.\n",
      "</summary>\n",
      "\n",
      "<thinking>\n",
      "Finally, I'll ask if the user needs any clarification or has additional questions:\n",
      "</thinking>\n",
      "\n",
      "Does this help summarize the key points? Please let me know if you need any clarification or have\n",
      "additional questions.\n"
     ]
    }
   ],
   "source": [
    "modelId = 'anthropic.claude-v2' # change this to use a different version from the model provider\n",
    "accept = 'application/json'\n",
    "contentType = 'application/json'\n",
    "\n",
    "response = boto3_bedrock.invoke_model(body=body, modelId=modelId, accept=accept, contentType=contentType)\n",
    "response_body = json.loads(response.get('body').read())\n",
    "\n",
    "print_ww(response_body.get('completion'))"
   ]
  },
  {
   "cell_type": "markdown",
   "metadata": {
    "tags": []
   },
   "source": [
    "## PROMPT ENGINEERING TECHNIQUE #4 - Now, let's focus on another technique to engineer this, by giving CLAUDE A HUMAN ASSISTANT LOOP TO REINFORCE INSTRUCTIONS AND LET'S SEE HOW THE RESPONSE CHANGES"
   ]
  },
  {
   "cell_type": "code",
   "execution_count": 85,
   "metadata": {
    "tags": []
   },
   "outputs": [],
   "source": [
    "prompt = \"\"\"\n",
    "\n",
    "Human: You are an AWS cloud advisor. Provide a helpful summary with actions users can take to focus on multi account strategy and IAM identity center. \n",
    "<text>\n",
    "Multi Account Strategy\n",
    "\n",
    "Tagging \n",
    "\n",
    "* Use to organize resources. Helps with billing to break down costs, automation, and acces control.\n",
    "* Tag Categories (technical tags, business tags, tags for automation, security tags).\n",
    "* Best practices: standardized, case-sensitive, consistent across resources, leverage tools(resource groups).\n",
    "\n",
    "Disaster Recovery\n",
    "\n",
    "Disaster Recovery Strategies\n",
    "\n",
    "* Pilot Light → DBs ready and data replication, create other resources when it’s time(VMs).\n",
    "* Warm Standby → DBs ready and data replication, other resources operational but scaled down.\n",
    "* The difference between Pilot Light and Warm Standby can sometimes be difficult to understand. Both include an environment in your DR Region with copies of your primary region assets. The distinction is that Pilot Light cannot process requests without additional action taken first, while Warm Standby can handle traffic (at reduced capacity levels) immediately.\n",
    "\n",
    "Elastic Disaster Recovery\n",
    "\n",
    "* Minimizes downtime and data loss with fast, reliable recovery of on-premises and cloud-based applications using affordable storage, minimal compute, and point-in-time recovery.\n",
    "* Use cases: a) On-premises to AWS b) Cloud to AWS c) AWS Region to AWS Region\n",
    "\n",
    "Identity and Access Management\n",
    "\n",
    "AWS IAM Identity Center\n",
    "\n",
    "* Supports only SAML 2.0–based applications so an OpenID Connect-compatible solution will not work.\n",
    "\n",
    "Simple AD\n",
    "\n",
    "* Subset of Microsoft AD.\n",
    "\n",
    "Managed Microsoft AD\n",
    "\n",
    "* Configure a trust relationship between AWS Managed Microsoft AD in the AWS Cloud and your existing on-premises Microsoft Active Directory, providing users and groups with access to resources in either domain, using single sign-on (SSO).\n",
    "\n",
    "Microsoft AD connector\n",
    "\n",
    "* In case you want to connect to on premises AD.\n",
    "\n",
    "Identity Federation\n",
    "\n",
    "* Identity federation with SAML 2.0 enables federated single sign-on (SSO). You can use a third-party SAML IdP to establish SSO access to the console or you can create a custom IdP to enable console access for your external users.\n",
    "* Before you can use SAML 2.0-based federation, you must configure your organization’s IdP and your AWS account to trust each other. Inside your organization, you must have an IdP that supports SAML 2.0, like Microsoft Active Directory Federation Service (AD FS, part of Windows Server). In your organization’s IdP, you define assertions that map users or groups in your organization to the IAM roles.\n",
    "* When you create the trust policy for the role, you specify the SAML provider that you created earlier as the Principal.\n",
    "* Flow: LDAP → STS → AWS access. \n",
    "* Web Identity Federation with AssumeRoleWithWebIdentity API → STS → AWS resources.\n",
    "\n",
    "Create SAML Identity provider in IAM\n",
    "\n",
    "1. Get the SAML metadata document from IdP.\n",
    "2. Create SAML IAM identity provider.\n",
    "3. Configure SAML IdP with relying party trust.\n",
    "4. In IdP, configure SAML Assertions for the authentication response.\n",
    "\n",
    "\n",
    "</text>\n",
    "\n",
    "Follow the instructions below to summarize \n",
    "<instructions>\n",
    "- The summary should incorporate analogies and examples for users.\n",
    "- Add metaphorical examples to have users understand the importance of AWS.\n",
    "- Make sure to add a full stop after each sentence\n",
    "- Ask the user if you can help with anything else\n",
    "</instructions>\n",
    "\n",
    "Assistant: Can I think step by step?\n",
    "\n",
    "Human: Yes. Think step by step and for each step, think out aloud by mentioning it in the <thinking> </thinking> xml tags to show what you are thinking. Give the summary in the <summary></summary> xml tags.\n",
    "\n",
    "Assistant: Is there anything else I can add in the answer?\n",
    "\n",
    "Human: Yes. Teach the fundamentals in your answer like your user is a 5 year old and knows nothing about technology in the <5 year old understanding></5 year old understanding> xml tags.\n",
    "- Give another section in your response where you teach the fundamentals in your answer like your user is a 50 year old tech CEO and knows everything about technology in the <50 year old CEO understanding></50 year old CEO understanding> xml tags.\n",
    "\n",
    "Assistant:\"\"\""
   ]
  },
  {
   "cell_type": "code",
   "execution_count": 86,
   "metadata": {
    "tags": []
   },
   "outputs": [],
   "source": [
    "body = json.dumps({\"prompt\": prompt,\n",
    "                 \"max_tokens_to_sample\":4096,\n",
    "                 \"temperature\":0.5,\n",
    "                 \"top_k\":250,\n",
    "                 \"top_p\":0.5,\n",
    "                 \"stop_sequences\":[]\n",
    "                  }) "
   ]
  },
  {
   "cell_type": "code",
   "execution_count": 87,
   "metadata": {
    "tags": []
   },
   "outputs": [
    {
     "name": "stdout",
     "output_type": "stream",
     "text": [
      " <thinking>\n",
      "Let me break this down step-by-step:\n",
      "</thinking>\n",
      "\n",
      "<summary>\n",
      "Here is a helpful summary of key points about multi-account strategies and IAM identity center in\n",
      "AWS:\n",
      "\n",
      "- Use tagging to organize resources and enable automation, billing breakdown, and access control.\n",
      "Standardize tags across accounts.\n",
      "- Implement disaster recovery with pilot light, warm standby, or elastic disaster recovery. Choose\n",
      "based on RTO/RPO.\n",
      "- AWS IAM Identity Center supports SAML 2.0 apps. Use Simple AD, Microsoft AD, or AD Connector to\n",
      "integrate on-prem AD.\n",
      "- Enable SSO with SAML identity providers. Establish trust between IdP and AWS account. Define\n",
      "assertions to map users/groups to IAM roles.\n",
      "</summary>\n",
      "\n",
      "<5 year old understanding>\n",
      "AWS is like a big playground with lots of toys and games. You can use name tags to organize all the\n",
      "toys into bins to find them easier later. If the playground gets messy from everyone playing, the\n",
      "helpers can use the tags to clean up faster. The playground has a backup playground that looks the\n",
      "same so kids can keep playing if something happens to the first one. The helpers use special keys to\n",
      "allow kids to go between the playgrounds and play different games. The keys help the helpers know\n",
      "which kids can play on which playgrounds.\n",
      "</5 year old understanding>\n",
      "\n",
      "<50 year old CEO understanding>\n",
      "A multi-account strategy in AWS enables isolation and segmentation of resources to meet security,\n",
      "billing, and isolation requirements. Tagging resources consistently is crucial for automation,\n",
      "access control, and cost allocation across accounts. Disaster recovery options like pilot light and\n",
      "warm standby balance recovery time vs cost. AWS IAM Identity Center integrates AWS IAM with on-\n",
      "premises Active Directory for SSO via SAML identity providers. Establishing trust between AWS\n",
      "accounts and corporate identity providers is essential for securing access to AWS resources by users\n",
      "and groups.\n",
      "</50 year old CEO understanding>\n",
      "\n",
      "Does this help explain the key points? Let me know if you need any clarification or have additional\n",
      "questions.\n"
     ]
    }
   ],
   "source": [
    "modelId = 'anthropic.claude-v2' # change this to use a different version from the model provider\n",
    "accept = 'application/json'\n",
    "contentType = 'application/json'\n",
    "\n",
    "response = boto3_bedrock.invoke_model(body=body, modelId=modelId, accept=accept, contentType=contentType)\n",
    "response_body = json.loads(response.get('body').read())\n",
    "\n",
    "print_ww(response_body.get('completion'))"
   ]
  },
  {
   "cell_type": "markdown",
   "metadata": {},
   "source": [
    "## PROMPT ENGINEERING TECHNIQUE #5 - Now, LET'S FOCUS ON BREAKING THE PROMPT INTO SUB TASKS FOR YOUR USE CASE BELOW"
   ]
  },
  {
   "cell_type": "code",
   "execution_count": 88,
   "metadata": {
    "tags": []
   },
   "outputs": [],
   "source": [
    "prompt = \"\"\"\n",
    "\n",
    "Human: You are an AWS cloud advisor. Provide a helpful summary with actions users can take to focus on multi account strategy and IAM identity center. \n",
    "<text>\n",
    "Multi Account Strategy\n",
    "\n",
    "Tagging \n",
    "\n",
    "* Use to organize resources. Helps with billing to break down costs, automation, and acces control.\n",
    "* Tag Categories (technical tags, business tags, tags for automation, security tags).\n",
    "* Best practices: standardized, case-sensitive, consistent across resources, leverage tools(resource groups).\n",
    "\n",
    "Disaster Recovery\n",
    "\n",
    "Disaster Recovery Strategies\n",
    "\n",
    "* Pilot Light → DBs ready and data replication, create other resources when it’s time(VMs).\n",
    "* Warm Standby → DBs ready and data replication, other resources operational but scaled down.\n",
    "* The difference between Pilot Light and Warm Standby can sometimes be difficult to understand. Both include an environment in your DR Region with copies of your primary region assets. The distinction is that Pilot Light cannot process requests without additional action taken first, while Warm Standby can handle traffic (at reduced capacity levels) immediately.\n",
    "\n",
    "Elastic Disaster Recovery\n",
    "\n",
    "* Minimizes downtime and data loss with fast, reliable recovery of on-premises and cloud-based applications using affordable storage, minimal compute, and point-in-time recovery.\n",
    "* Use cases: a) On-premises to AWS b) Cloud to AWS c) AWS Region to AWS Region\n",
    "\n",
    "Identity and Access Management\n",
    "\n",
    "AWS IAM Identity Center\n",
    "\n",
    "* Supports only SAML 2.0–based applications so an OpenID Connect-compatible solution will not work.\n",
    "\n",
    "Simple AD\n",
    "\n",
    "* Subset of Microsoft AD.\n",
    "\n",
    "Managed Microsoft AD\n",
    "\n",
    "* Configure a trust relationship between AWS Managed Microsoft AD in the AWS Cloud and your existing on-premises Microsoft Active Directory, providing users and groups with access to resources in either domain, using single sign-on (SSO).\n",
    "\n",
    "Microsoft AD connector\n",
    "\n",
    "* In case you want to connect to on premises AD.\n",
    "\n",
    "Identity Federation\n",
    "\n",
    "* Identity federation with SAML 2.0 enables federated single sign-on (SSO). You can use a third-party SAML IdP to establish SSO access to the console or you can create a custom IdP to enable console access for your external users.\n",
    "* Before you can use SAML 2.0-based federation, you must configure your organization’s IdP and your AWS account to trust each other. Inside your organization, you must have an IdP that supports SAML 2.0, like Microsoft Active Directory Federation Service (AD FS, part of Windows Server). In your organization’s IdP, you define assertions that map users or groups in your organization to the IAM roles.\n",
    "* When you create the trust policy for the role, you specify the SAML provider that you created earlier as the Principal.\n",
    "* Flow: LDAP → STS → AWS access. \n",
    "* Web Identity Federation with AssumeRoleWithWebIdentity API → STS → AWS resources.\n",
    "\n",
    "Create SAML Identity provider in IAM\n",
    "\n",
    "1. Get the SAML metadata document from IdP.\n",
    "2. Create SAML IAM identity provider.\n",
    "3. Configure SAML IdP with relying party trust.\n",
    "4. In IdP, configure SAML Assertions for the authentication response.\n",
    "\n",
    "\n",
    "</text>\n",
    "\n",
    "Follow the instructions below to summarize \n",
    "<instructions>\n",
    "- The summary should incorporate analogies and examples for users.\n",
    "- Add metaphorical examples to have users understand the importance of AWS.\n",
    "- Make sure to add a full stop after each sentence\n",
    "- Ask the user if you can help with anything else\n",
    "</instructions>\n",
    "\n",
    "Assistant: Can I think step by step?\n",
    "\n",
    "Human: Yes. Think step by step and for each step, think out aloud by mentioning it in the <thinking> </thinking> xml tags to show what you are thinking. Give the summary in the <summary></summary> xml tags.\n",
    "\n",
    "Assistant: Is there anything else I can add in the answer?\n",
    "\n",
    "Human: Please follow these steps:\n",
    "1. Write three topic sentences arguing for USING MULTI ACCOUNT AWS STRATEGIES.\n",
    "2. Write three topic sentences arguing against not using AWS SERVICES OR IAM STRATEGIES.\n",
    "3. Write an essay by expanding each topic sentence from Steps 1 and 2, and adding a conclusion to synthesize the arguments. Please enclose the essay in <essay></essay> tags.\n",
    "4. Write your complete response like you are pitching your idea to a company\n",
    "\n",
    "Assistant:\"\"\""
   ]
  },
  {
   "cell_type": "code",
   "execution_count": 89,
   "metadata": {
    "tags": []
   },
   "outputs": [],
   "source": [
    "body = json.dumps({\"prompt\": prompt,\n",
    "                 \"max_tokens_to_sample\":4096,\n",
    "                 \"temperature\":0.5,\n",
    "                 \"top_k\":250,\n",
    "                 \"top_p\":0.5,\n",
    "                 \"stop_sequences\":[]\n",
    "                  }) "
   ]
  },
  {
   "cell_type": "code",
   "execution_count": 90,
   "metadata": {
    "tags": []
   },
   "outputs": [
    {
     "name": "stdout",
     "output_type": "stream",
     "text": [
      " <thinking>\n",
      "Okay, let's follow the instructions step-by-step:\n",
      "</thinking>\n",
      "\n",
      "<essay>\n",
      "\n",
      "Using multi-account AWS strategies has several benefits. First, it improves security by separating\n",
      "environments and access. Dev and prod environments can be isolated to prevent accidental changes.\n",
      "Second, it aids compliance by restricting access and enabling granular privileges. Regulatory\n",
      "requirements can be met more easily. Third, it reduces costs through consolidated billing and volume\n",
      "discounts. Overall spend is optimized across accounts.\n",
      "\n",
      "Not using AWS services or IAM strategies has downsides. First, security is weaker without the tools\n",
      "AWS provides. Features like identity federation and fine-grained access controls are missing.\n",
      "Second, compliance is more difficult lacking AWS's auditing capabilities. Demonstrating regulatory\n",
      "adherence is harder. Third, costs are likely higher without AWS volume discounts and without ability\n",
      "to right-size resources.\n",
      "\n",
      "In conclusion, leveraging multi-account strategies and AWS's identity and access features provides\n",
      "security, compliance, and cost benefits. Organizations should adopt these cloud best practices.\n",
      "\n",
      "</essay>\n",
      "\n",
      "<summary>\n",
      "Here is my pitch on why adopting multi-account strategies and AWS IAM is beneficial:\n",
      "\n",
      "Using multiple AWS accounts creates security boundaries, aids compliance, and reduces costs - like\n",
      "different rooms in a house for privacy. AWS identity services are like smart locks on those rooms,\n",
      "granting access only to approved individuals. This improves security and compliance. Overall, AWS\n",
      "tools help build a modern, efficient, and secure cloud environment just like a smart home - so let's\n",
      "open the doors to the AWS cloud!\n",
      "</summary>\n"
     ]
    }
   ],
   "source": [
    "modelId = 'anthropic.claude-v2' # change this to use a different version from the model provider\n",
    "accept = 'application/json'\n",
    "contentType = 'application/json'\n",
    "\n",
    "response = boto3_bedrock.invoke_model(body=body, modelId=modelId, accept=accept, contentType=contentType)\n",
    "response_body = json.loads(response.get('body').read())\n",
    "\n",
    "print_ww(response_body.get('completion'))"
   ]
  },
  {
   "cell_type": "markdown",
   "metadata": {},
   "source": [
    "## PROMPT ENGINEERING TECHNIQUE #6- GIVE CONTEXT AND COMPREHENSION, PUT WORDS INTO CLAUDE'S MOUTH"
   ]
  },
  {
   "cell_type": "code",
   "execution_count": 91,
   "metadata": {
    "tags": []
   },
   "outputs": [],
   "source": [
    "prompt = \"\"\"\n",
    "\n",
    "Human: You are an AWS cloud advisor. Provide a helpful summary with actions users can take to focus on multi account strategy and IAM identity center. \n",
    "<text>\n",
    "Multi Account Strategy\n",
    "\n",
    "Tagging \n",
    "\n",
    "* Use to organize resources. Helps with billing to break down costs, automation, and acces control.\n",
    "* Tag Categories (technical tags, business tags, tags for automation, security tags).\n",
    "* Best practices: standardized, case-sensitive, consistent across resources, leverage tools(resource groups).\n",
    "\n",
    "Disaster Recovery\n",
    "\n",
    "Disaster Recovery Strategies\n",
    "\n",
    "* Pilot Light → DBs ready and data replication, create other resources when it’s time(VMs).\n",
    "* Warm Standby → DBs ready and data replication, other resources operational but scaled down.\n",
    "* The difference between Pilot Light and Warm Standby can sometimes be difficult to understand. Both include an environment in your DR Region with copies of your primary region assets. The distinction is that Pilot Light cannot process requests without additional action taken first, while Warm Standby can handle traffic (at reduced capacity levels) immediately.\n",
    "\n",
    "Elastic Disaster Recovery\n",
    "\n",
    "* Minimizes downtime and data loss with fast, reliable recovery of on-premises and cloud-based applications using affordable storage, minimal compute, and point-in-time recovery.\n",
    "* Use cases: a) On-premises to AWS b) Cloud to AWS c) AWS Region to AWS Region\n",
    "\n",
    "Identity and Access Management\n",
    "\n",
    "AWS IAM Identity Center\n",
    "\n",
    "* Supports only SAML 2.0–based applications so an OpenID Connect-compatible solution will not work.\n",
    "\n",
    "Simple AD\n",
    "\n",
    "* Subset of Microsoft AD.\n",
    "\n",
    "Managed Microsoft AD\n",
    "\n",
    "* Configure a trust relationship between AWS Managed Microsoft AD in the AWS Cloud and your existing on-premises Microsoft Active Directory, providing users and groups with access to resources in either domain, using single sign-on (SSO).\n",
    "\n",
    "Microsoft AD connector\n",
    "\n",
    "* In case you want to connect to on premises AD.\n",
    "\n",
    "Identity Federation\n",
    "\n",
    "* Identity federation with SAML 2.0 enables federated single sign-on (SSO). You can use a third-party SAML IdP to establish SSO access to the console or you can create a custom IdP to enable console access for your external users.\n",
    "* Before you can use SAML 2.0-based federation, you must configure your organization’s IdP and your AWS account to trust each other. Inside your organization, you must have an IdP that supports SAML 2.0, like Microsoft Active Directory Federation Service (AD FS, part of Windows Server). In your organization’s IdP, you define assertions that map users or groups in your organization to the IAM roles.\n",
    "* When you create the trust policy for the role, you specify the SAML provider that you created earlier as the Principal.\n",
    "* Flow: LDAP → STS → AWS access. \n",
    "* Web Identity Federation with AssumeRoleWithWebIdentity API → STS → AWS resources.\n",
    "\n",
    "Create SAML Identity provider in IAM\n",
    "\n",
    "1. Get the SAML metadata document from IdP.\n",
    "2. Create SAML IAM identity provider.\n",
    "3. Configure SAML IdP with relying party trust.\n",
    "4. In IdP, configure SAML Assertions for the authentication response.\n",
    "\n",
    "\n",
    "</text>\n",
    "\n",
    "Follow the instructions below to summarize \n",
    "<instructions>\n",
    "- The summary should incorporate analogies and examples for users.\n",
    "- Add metaphorical examples to have users understand the importance of AWS.\n",
    "- Make sure to add a full stop after each sentence\n",
    "- Ask the user if you can help with anything else\n",
    "</instructions>\n",
    "\n",
    "Assistant: Is there anything else I can add in my answer?\n",
    "\n",
    "Human: Yes, give me example of 5 AWS services for each of your argument.\n",
    "\n",
    "Assistant: Yes, I understand. For a given sentence, I should specify the services for each of the instruction above and mention each servive in a bullet point like \"[1]\".\n",
    "\n",
    "Human: Correct. Make sure to follow all these instructions.\n",
    "\n",
    "Assistant:\"\"\""
   ]
  },
  {
   "cell_type": "code",
   "execution_count": 92,
   "metadata": {
    "tags": []
   },
   "outputs": [],
   "source": [
    "body = json.dumps({\"prompt\": prompt,\n",
    "                 \"max_tokens_to_sample\":4096,\n",
    "                 \"temperature\":0.5,\n",
    "                 \"top_k\":250,\n",
    "                 \"top_p\":0.5,\n",
    "                 \"stop_sequences\":[]\n",
    "                  }) "
   ]
  },
  {
   "cell_type": "code",
   "execution_count": 93,
   "metadata": {
    "tags": []
   },
   "outputs": [
    {
     "name": "stdout",
     "output_type": "stream",
     "text": [
      " Here is an updated summary with examples of AWS services for each point:\n",
      "\n",
      "Multi Account Strategy\n",
      "\n",
      "Tagging\n",
      "\n",
      "* Use to organize resources like [1] EC2, [2] S3 buckets, [3] RDS databases. Helps with billing to\n",
      "break down costs for [4] Lambda and [5] CloudFront usage, automation through [6] CloudFormation, and\n",
      "access control via [7] IAM policies.\n",
      "\n",
      "Disaster Recovery\n",
      "\n",
      "Disaster Recovery Strategies\n",
      "\n",
      "* Pilot Light → DBs ready and data replication with [1] RDS, create other resources like [2] EC2\n",
      "instances when it’s time.\n",
      "* Warm Standby → DBs ready and data replication with [3] DynamoDB, other resources like [4] ELB load\n",
      "balancers operational but scaled down.\n",
      "\n",
      "Elastic Disaster Recovery\n",
      "\n",
      "* Minimizes downtime and data loss with fast, reliable recovery of on-premises and cloud-based\n",
      "applications using [1] S3 for affordable storage, [2] EC2 for minimal compute, and [3] EBS for\n",
      "point-in-time recovery.\n",
      "\n",
      "Identity and Access Management\n",
      "\n",
      "AWS IAM Identity Center\n",
      "\n",
      "* Supports only [1] Cognito user pools for SAML 2.0–based applications so an [2] OpenID Connect-\n",
      "compatible solution like Auth0 will not work.\n",
      "\n",
      "Simple AD\n",
      "\n",
      "* Subset of Microsoft AD using [1] Directory Service.\n",
      "\n",
      "Managed Microsoft AD\n",
      "\n",
      "* Configure a trust relationship between [1] AWS Managed Microsoft AD in the AWS Cloud and your\n",
      "existing on-premises Microsoft Active Directory, providing users and groups with access to resources\n",
      "in either domain, using [2] single sign-on (SSO) with AD Connector.\n",
      "\n",
      "Microsoft AD connector\n",
      "\n",
      "* In case you want to connect to on premises AD using [1] AD Connector.\n",
      "\n",
      "Identity Federation\n",
      "\n",
      "* Identity federation with [1] IAM SAML 2.0 enables federated single sign-on (SSO). You can use a\n",
      "third-party SAML IdP like [2] PingFederate to establish SSO access to the console or you can create\n",
      "a custom IdP to enable console access for your external users.\n",
      "\n",
      "Does this help summarize the key points with relevant AWS service examples? Please let me know if\n",
      "you need any clarification or have additional requirements.\n"
     ]
    }
   ],
   "source": [
    "modelId = 'anthropic.claude-v2' # change this to use a different version from the model provider\n",
    "accept = 'application/json'\n",
    "contentType = 'application/json'\n",
    "\n",
    "response = boto3_bedrock.invoke_model(body=body, modelId=modelId, accept=accept, contentType=contentType)\n",
    "response_body = json.loads(response.get('body').read())\n",
    "\n",
    "print_ww(response_body.get('completion'))"
   ]
  },
  {
   "cell_type": "markdown",
   "metadata": {},
   "source": [
    "## PROMPT ENGINEERING TECHNIQUE #7- Ask Claude for rewrites"
   ]
  },
  {
   "cell_type": "code",
   "execution_count": 94,
   "metadata": {
    "tags": []
   },
   "outputs": [],
   "source": [
    "prompt = \"\"\"\n",
    "\n",
    "Human: Here's a paragraph:\n",
    "<paragraph>\n",
    "Here is an updated summary with examples of AWS services for each point:\n",
    "\n",
    "Multi Account Strategy\n",
    "\n",
    "Tagging\n",
    "\n",
    "* Use to organize resources like [1] EC2, [2] S3 buckets, [3] RDS databases. Helps with billing to\n",
    "break down costs for [4] Lambda and [5] CloudFront usage, automation through [6] CloudFormation, and\n",
    "access control via [7] IAM policies.\n",
    "\n",
    "Disaster Recovery\n",
    "\n",
    "Disaster Recovery Strategies\n",
    "\n",
    "* Pilot Light → DBs ready and data replication with [1] RDS, create other resources like [2] EC2\n",
    "instances when it’s time.\n",
    "* Warm Standby → DBs ready and data replication with [3] DynamoDB, other resources like [4] ELB load\n",
    "balancers operational but scaled down.\n",
    "\n",
    "Elastic Disaster Recovery\n",
    "\n",
    "* Minimizes downtime and data loss with fast, reliable recovery of on-premises and cloud-based\n",
    "applications using [1] S3 for affordable storage, [2] EC2 for minimal compute, and [3] EBS for\n",
    "point-in-time recovery.\n",
    "\n",
    "Identity and Access Management\n",
    "\n",
    "AWS IAM Identity Center\n",
    "\n",
    "* Supports only [1] Cognito user pools for SAML 2.0–based applications so an [2] OpenID Connect-\n",
    "compatible solution like Auth0 will not work.\n",
    "\n",
    "Simple AD\n",
    "\n",
    "* Subset of Microsoft AD using [1] Directory Service.\n",
    "\n",
    "Managed Microsoft AD\n",
    "\n",
    "* Configure a trust relationship between [1] AWS Managed Microsoft AD in the AWS Cloud and your\n",
    "existing on-premises Microsoft Active Directory, providing users and groups with access to resources\n",
    "in either domain, using [2] single sign-on (SSO) with AD Connector.\n",
    "\n",
    "Microsoft AD connector\n",
    "\n",
    "* In case you want to connect to on premises AD using [1] AD Connector.\n",
    "\n",
    "Identity Federation\n",
    "\n",
    "* Identity federation with [1] IAM SAML 2.0 enables federated single sign-on (SSO). You can use a\n",
    "third-party SAML IdP like [2] PingFederate to establish SSO access to the console or you can create\n",
    "a custom IdP to enable console access for your external users.\n",
    "\n",
    "Does this help summarize the key points with relevant AWS service examples? Please let me know if\n",
    "you need any clarification or have additional requirements.\n",
    "</paragraph>\n",
    "\n",
    "I'd like you to rewrite it using the following instructions:\n",
    "<instructions>\n",
    "- The summary should incorporate analogies and examples for users.\n",
    "- Add metaphorical examples to have users understand the importance of AWS.\n",
    "- Make sure to add a full stop after each sentence\n",
    "- Ask the user if you can help with anything else\n",
    "</instructions>\n",
    "\n",
    "Assistant: Is there anything else I can add in my answer?\n",
    "\n",
    "Human: Yes, give me example of 5 AWS services for each of your argument.\n",
    "\n",
    "Assistant: Yes, I understand. For a given sentence, I should specify the services for each of the instruction above and mention each servive in a bullet point like \"[1]\".\n",
    "\n",
    "Human: Correct. Make sure to follow all these instructions.\n",
    "\n",
    "Please put your rewrite in <rewrite></rewrite> tags.\n",
    "\n",
    "Assistant: <rewrite>\n",
    "\n",
    "Assistant:\"\"\""
   ]
  },
  {
   "cell_type": "code",
   "execution_count": 95,
   "metadata": {
    "tags": []
   },
   "outputs": [],
   "source": [
    "body = json.dumps({\"prompt\": prompt,\n",
    "                 \"max_tokens_to_sample\":4096,\n",
    "                 \"temperature\":0.5,\n",
    "                 \"top_k\":250,\n",
    "                 \"top_p\":0.5,\n",
    "                 \"stop_sequences\":[]\n",
    "                  }) "
   ]
  },
  {
   "cell_type": "code",
   "execution_count": 96,
   "metadata": {
    "tags": []
   },
   "outputs": [
    {
     "name": "stdout",
     "output_type": "stream",
     "text": [
      " Here is an updated summary with relatable examples for users to understand the importance of AWS\n",
      "services:\n",
      "\n",
      "Multi Account Strategy is like having separate bank accounts for your personal, business, and\n",
      "vacation funds. This helps organize your money and control spending, just like using services such\n",
      "as [1] EC2, [2] S3, [3] RDS, [4] Lambda, and [5] CloudFront with tagging helps manage AWS resources\n",
      "and billing.\n",
      "\n",
      "Disaster Recovery is like having a backup generator during a blackout. AWS provides options to get\n",
      "systems back up quickly:\n",
      "\n",
      "Disaster Recovery Strategies\n",
      "\n",
      "* Pilot Light is like keeping the pilot light on for your water heater, so it's ready to go. RDS and\n",
      "data replication keep databases ready, while [1] EC2 instances can spin up when needed.\n",
      "* Warm Standby is like keeping a spare tire inflated and ready to swap. [2] DynamoDB databases are\n",
      "available, while [3] ELB load balancers and [4] EC2 instances are operational but scaled down.\n",
      "\n",
      "Elastic Disaster Recovery\n",
      "\n",
      "* Minimizes downtime like keeping a spare key outside your house. Quick recovery uses [1] S3\n",
      "affordable storage, [2] EC2 compute, and [3] EBS point-in-time recovery.\n",
      "\n",
      "Identity and Access Management controls system entry like a security guard at a building. AWS\n",
      "options include:\n",
      "\n",
      "AWS IAM Identity Center\n",
      "\n",
      "* Only works with [1] Cognito user pools, so [2] OpenID Connect systems won't integrate. It's like a\n",
      "guard who only allows people on a pre-approved guest list.\n",
      "\n",
      "Simple AD\n",
      "\n",
      "* Provides basic directory services like a guard checking IDs but not using biometric scans. It uses\n",
      "[1] Directory Service.\n",
      "\n",
      "Managed Microsoft AD\n",
      "\n",
      "* Sets up trust between cloud and on-prem AD like a guard who coordinates with another building's\n",
      "security. Uses [1] AD Connector for [2] single sign-on between domains.\n",
      "\n",
      "Microsoft AD connector\n",
      "\n",
      "* Connects on-premises AD via [1] AD Connector like a guard with a walkie-talkie to the other\n",
      "building.\n",
      "\n",
      "Identity Federation\n",
      "\n",
      "* Allows SSO via [1] IAM SAML integration. It's like two guards who can verify users from either\n",
      "building. Can also integrate third-party SAML like [2] PingFederate.\n",
      "\n",
      "Please let me know if you need any clarification or have additional requirements!\n",
      "\n",
      "</rewrite>\n"
     ]
    }
   ],
   "source": [
    "modelId = 'anthropic.claude-v2' # change this to use a different version from the model provider\n",
    "accept = 'application/json'\n",
    "contentType = 'application/json'\n",
    "\n",
    "response = boto3_bedrock.invoke_model(body=body, modelId=modelId, accept=accept, contentType=contentType)\n",
    "response_body = json.loads(response.get('body').read())\n",
    "\n",
    "print_ww(response_body.get('completion'))"
   ]
  }
 ],
 "metadata": {
  "availableInstances": [
   {
    "_defaultOrder": 0,
    "_isFastLaunch": true,
    "category": "General purpose",
    "gpuNum": 0,
    "hideHardwareSpecs": false,
    "memoryGiB": 4,
    "name": "ml.t3.medium",
    "vcpuNum": 2
   },
   {
    "_defaultOrder": 1,
    "_isFastLaunch": false,
    "category": "General purpose",
    "gpuNum": 0,
    "hideHardwareSpecs": false,
    "memoryGiB": 8,
    "name": "ml.t3.large",
    "vcpuNum": 2
   },
   {
    "_defaultOrder": 2,
    "_isFastLaunch": false,
    "category": "General purpose",
    "gpuNum": 0,
    "hideHardwareSpecs": false,
    "memoryGiB": 16,
    "name": "ml.t3.xlarge",
    "vcpuNum": 4
   },
   {
    "_defaultOrder": 3,
    "_isFastLaunch": false,
    "category": "General purpose",
    "gpuNum": 0,
    "hideHardwareSpecs": false,
    "memoryGiB": 32,
    "name": "ml.t3.2xlarge",
    "vcpuNum": 8
   },
   {
    "_defaultOrder": 4,
    "_isFastLaunch": true,
    "category": "General purpose",
    "gpuNum": 0,
    "hideHardwareSpecs": false,
    "memoryGiB": 8,
    "name": "ml.m5.large",
    "vcpuNum": 2
   },
   {
    "_defaultOrder": 5,
    "_isFastLaunch": false,
    "category": "General purpose",
    "gpuNum": 0,
    "hideHardwareSpecs": false,
    "memoryGiB": 16,
    "name": "ml.m5.xlarge",
    "vcpuNum": 4
   },
   {
    "_defaultOrder": 6,
    "_isFastLaunch": false,
    "category": "General purpose",
    "gpuNum": 0,
    "hideHardwareSpecs": false,
    "memoryGiB": 32,
    "name": "ml.m5.2xlarge",
    "vcpuNum": 8
   },
   {
    "_defaultOrder": 7,
    "_isFastLaunch": false,
    "category": "General purpose",
    "gpuNum": 0,
    "hideHardwareSpecs": false,
    "memoryGiB": 64,
    "name": "ml.m5.4xlarge",
    "vcpuNum": 16
   },
   {
    "_defaultOrder": 8,
    "_isFastLaunch": false,
    "category": "General purpose",
    "gpuNum": 0,
    "hideHardwareSpecs": false,
    "memoryGiB": 128,
    "name": "ml.m5.8xlarge",
    "vcpuNum": 32
   },
   {
    "_defaultOrder": 9,
    "_isFastLaunch": false,
    "category": "General purpose",
    "gpuNum": 0,
    "hideHardwareSpecs": false,
    "memoryGiB": 192,
    "name": "ml.m5.12xlarge",
    "vcpuNum": 48
   },
   {
    "_defaultOrder": 10,
    "_isFastLaunch": false,
    "category": "General purpose",
    "gpuNum": 0,
    "hideHardwareSpecs": false,
    "memoryGiB": 256,
    "name": "ml.m5.16xlarge",
    "vcpuNum": 64
   },
   {
    "_defaultOrder": 11,
    "_isFastLaunch": false,
    "category": "General purpose",
    "gpuNum": 0,
    "hideHardwareSpecs": false,
    "memoryGiB": 384,
    "name": "ml.m5.24xlarge",
    "vcpuNum": 96
   },
   {
    "_defaultOrder": 12,
    "_isFastLaunch": false,
    "category": "General purpose",
    "gpuNum": 0,
    "hideHardwareSpecs": false,
    "memoryGiB": 8,
    "name": "ml.m5d.large",
    "vcpuNum": 2
   },
   {
    "_defaultOrder": 13,
    "_isFastLaunch": false,
    "category": "General purpose",
    "gpuNum": 0,
    "hideHardwareSpecs": false,
    "memoryGiB": 16,
    "name": "ml.m5d.xlarge",
    "vcpuNum": 4
   },
   {
    "_defaultOrder": 14,
    "_isFastLaunch": false,
    "category": "General purpose",
    "gpuNum": 0,
    "hideHardwareSpecs": false,
    "memoryGiB": 32,
    "name": "ml.m5d.2xlarge",
    "vcpuNum": 8
   },
   {
    "_defaultOrder": 15,
    "_isFastLaunch": false,
    "category": "General purpose",
    "gpuNum": 0,
    "hideHardwareSpecs": false,
    "memoryGiB": 64,
    "name": "ml.m5d.4xlarge",
    "vcpuNum": 16
   },
   {
    "_defaultOrder": 16,
    "_isFastLaunch": false,
    "category": "General purpose",
    "gpuNum": 0,
    "hideHardwareSpecs": false,
    "memoryGiB": 128,
    "name": "ml.m5d.8xlarge",
    "vcpuNum": 32
   },
   {
    "_defaultOrder": 17,
    "_isFastLaunch": false,
    "category": "General purpose",
    "gpuNum": 0,
    "hideHardwareSpecs": false,
    "memoryGiB": 192,
    "name": "ml.m5d.12xlarge",
    "vcpuNum": 48
   },
   {
    "_defaultOrder": 18,
    "_isFastLaunch": false,
    "category": "General purpose",
    "gpuNum": 0,
    "hideHardwareSpecs": false,
    "memoryGiB": 256,
    "name": "ml.m5d.16xlarge",
    "vcpuNum": 64
   },
   {
    "_defaultOrder": 19,
    "_isFastLaunch": false,
    "category": "General purpose",
    "gpuNum": 0,
    "hideHardwareSpecs": false,
    "memoryGiB": 384,
    "name": "ml.m5d.24xlarge",
    "vcpuNum": 96
   },
   {
    "_defaultOrder": 20,
    "_isFastLaunch": false,
    "category": "General purpose",
    "gpuNum": 0,
    "hideHardwareSpecs": true,
    "memoryGiB": 0,
    "name": "ml.geospatial.interactive",
    "supportedImageNames": [
     "sagemaker-geospatial-v1-0"
    ],
    "vcpuNum": 0
   },
   {
    "_defaultOrder": 21,
    "_isFastLaunch": true,
    "category": "Compute optimized",
    "gpuNum": 0,
    "hideHardwareSpecs": false,
    "memoryGiB": 4,
    "name": "ml.c5.large",
    "vcpuNum": 2
   },
   {
    "_defaultOrder": 22,
    "_isFastLaunch": false,
    "category": "Compute optimized",
    "gpuNum": 0,
    "hideHardwareSpecs": false,
    "memoryGiB": 8,
    "name": "ml.c5.xlarge",
    "vcpuNum": 4
   },
   {
    "_defaultOrder": 23,
    "_isFastLaunch": false,
    "category": "Compute optimized",
    "gpuNum": 0,
    "hideHardwareSpecs": false,
    "memoryGiB": 16,
    "name": "ml.c5.2xlarge",
    "vcpuNum": 8
   },
   {
    "_defaultOrder": 24,
    "_isFastLaunch": false,
    "category": "Compute optimized",
    "gpuNum": 0,
    "hideHardwareSpecs": false,
    "memoryGiB": 32,
    "name": "ml.c5.4xlarge",
    "vcpuNum": 16
   },
   {
    "_defaultOrder": 25,
    "_isFastLaunch": false,
    "category": "Compute optimized",
    "gpuNum": 0,
    "hideHardwareSpecs": false,
    "memoryGiB": 72,
    "name": "ml.c5.9xlarge",
    "vcpuNum": 36
   },
   {
    "_defaultOrder": 26,
    "_isFastLaunch": false,
    "category": "Compute optimized",
    "gpuNum": 0,
    "hideHardwareSpecs": false,
    "memoryGiB": 96,
    "name": "ml.c5.12xlarge",
    "vcpuNum": 48
   },
   {
    "_defaultOrder": 27,
    "_isFastLaunch": false,
    "category": "Compute optimized",
    "gpuNum": 0,
    "hideHardwareSpecs": false,
    "memoryGiB": 144,
    "name": "ml.c5.18xlarge",
    "vcpuNum": 72
   },
   {
    "_defaultOrder": 28,
    "_isFastLaunch": false,
    "category": "Compute optimized",
    "gpuNum": 0,
    "hideHardwareSpecs": false,
    "memoryGiB": 192,
    "name": "ml.c5.24xlarge",
    "vcpuNum": 96
   },
   {
    "_defaultOrder": 29,
    "_isFastLaunch": true,
    "category": "Accelerated computing",
    "gpuNum": 1,
    "hideHardwareSpecs": false,
    "memoryGiB": 16,
    "name": "ml.g4dn.xlarge",
    "vcpuNum": 4
   },
   {
    "_defaultOrder": 30,
    "_isFastLaunch": false,
    "category": "Accelerated computing",
    "gpuNum": 1,
    "hideHardwareSpecs": false,
    "memoryGiB": 32,
    "name": "ml.g4dn.2xlarge",
    "vcpuNum": 8
   },
   {
    "_defaultOrder": 31,
    "_isFastLaunch": false,
    "category": "Accelerated computing",
    "gpuNum": 1,
    "hideHardwareSpecs": false,
    "memoryGiB": 64,
    "name": "ml.g4dn.4xlarge",
    "vcpuNum": 16
   },
   {
    "_defaultOrder": 32,
    "_isFastLaunch": false,
    "category": "Accelerated computing",
    "gpuNum": 1,
    "hideHardwareSpecs": false,
    "memoryGiB": 128,
    "name": "ml.g4dn.8xlarge",
    "vcpuNum": 32
   },
   {
    "_defaultOrder": 33,
    "_isFastLaunch": false,
    "category": "Accelerated computing",
    "gpuNum": 4,
    "hideHardwareSpecs": false,
    "memoryGiB": 192,
    "name": "ml.g4dn.12xlarge",
    "vcpuNum": 48
   },
   {
    "_defaultOrder": 34,
    "_isFastLaunch": false,
    "category": "Accelerated computing",
    "gpuNum": 1,
    "hideHardwareSpecs": false,
    "memoryGiB": 256,
    "name": "ml.g4dn.16xlarge",
    "vcpuNum": 64
   },
   {
    "_defaultOrder": 35,
    "_isFastLaunch": false,
    "category": "Accelerated computing",
    "gpuNum": 1,
    "hideHardwareSpecs": false,
    "memoryGiB": 61,
    "name": "ml.p3.2xlarge",
    "vcpuNum": 8
   },
   {
    "_defaultOrder": 36,
    "_isFastLaunch": false,
    "category": "Accelerated computing",
    "gpuNum": 4,
    "hideHardwareSpecs": false,
    "memoryGiB": 244,
    "name": "ml.p3.8xlarge",
    "vcpuNum": 32
   },
   {
    "_defaultOrder": 37,
    "_isFastLaunch": false,
    "category": "Accelerated computing",
    "gpuNum": 8,
    "hideHardwareSpecs": false,
    "memoryGiB": 488,
    "name": "ml.p3.16xlarge",
    "vcpuNum": 64
   },
   {
    "_defaultOrder": 38,
    "_isFastLaunch": false,
    "category": "Accelerated computing",
    "gpuNum": 8,
    "hideHardwareSpecs": false,
    "memoryGiB": 768,
    "name": "ml.p3dn.24xlarge",
    "vcpuNum": 96
   },
   {
    "_defaultOrder": 39,
    "_isFastLaunch": false,
    "category": "Memory Optimized",
    "gpuNum": 0,
    "hideHardwareSpecs": false,
    "memoryGiB": 16,
    "name": "ml.r5.large",
    "vcpuNum": 2
   },
   {
    "_defaultOrder": 40,
    "_isFastLaunch": false,
    "category": "Memory Optimized",
    "gpuNum": 0,
    "hideHardwareSpecs": false,
    "memoryGiB": 32,
    "name": "ml.r5.xlarge",
    "vcpuNum": 4
   },
   {
    "_defaultOrder": 41,
    "_isFastLaunch": false,
    "category": "Memory Optimized",
    "gpuNum": 0,
    "hideHardwareSpecs": false,
    "memoryGiB": 64,
    "name": "ml.r5.2xlarge",
    "vcpuNum": 8
   },
   {
    "_defaultOrder": 42,
    "_isFastLaunch": false,
    "category": "Memory Optimized",
    "gpuNum": 0,
    "hideHardwareSpecs": false,
    "memoryGiB": 128,
    "name": "ml.r5.4xlarge",
    "vcpuNum": 16
   },
   {
    "_defaultOrder": 43,
    "_isFastLaunch": false,
    "category": "Memory Optimized",
    "gpuNum": 0,
    "hideHardwareSpecs": false,
    "memoryGiB": 256,
    "name": "ml.r5.8xlarge",
    "vcpuNum": 32
   },
   {
    "_defaultOrder": 44,
    "_isFastLaunch": false,
    "category": "Memory Optimized",
    "gpuNum": 0,
    "hideHardwareSpecs": false,
    "memoryGiB": 384,
    "name": "ml.r5.12xlarge",
    "vcpuNum": 48
   },
   {
    "_defaultOrder": 45,
    "_isFastLaunch": false,
    "category": "Memory Optimized",
    "gpuNum": 0,
    "hideHardwareSpecs": false,
    "memoryGiB": 512,
    "name": "ml.r5.16xlarge",
    "vcpuNum": 64
   },
   {
    "_defaultOrder": 46,
    "_isFastLaunch": false,
    "category": "Memory Optimized",
    "gpuNum": 0,
    "hideHardwareSpecs": false,
    "memoryGiB": 768,
    "name": "ml.r5.24xlarge",
    "vcpuNum": 96
   },
   {
    "_defaultOrder": 47,
    "_isFastLaunch": false,
    "category": "Accelerated computing",
    "gpuNum": 1,
    "hideHardwareSpecs": false,
    "memoryGiB": 16,
    "name": "ml.g5.xlarge",
    "vcpuNum": 4
   },
   {
    "_defaultOrder": 48,
    "_isFastLaunch": false,
    "category": "Accelerated computing",
    "gpuNum": 1,
    "hideHardwareSpecs": false,
    "memoryGiB": 32,
    "name": "ml.g5.2xlarge",
    "vcpuNum": 8
   },
   {
    "_defaultOrder": 49,
    "_isFastLaunch": false,
    "category": "Accelerated computing",
    "gpuNum": 1,
    "hideHardwareSpecs": false,
    "memoryGiB": 64,
    "name": "ml.g5.4xlarge",
    "vcpuNum": 16
   },
   {
    "_defaultOrder": 50,
    "_isFastLaunch": false,
    "category": "Accelerated computing",
    "gpuNum": 1,
    "hideHardwareSpecs": false,
    "memoryGiB": 128,
    "name": "ml.g5.8xlarge",
    "vcpuNum": 32
   },
   {
    "_defaultOrder": 51,
    "_isFastLaunch": false,
    "category": "Accelerated computing",
    "gpuNum": 1,
    "hideHardwareSpecs": false,
    "memoryGiB": 256,
    "name": "ml.g5.16xlarge",
    "vcpuNum": 64
   },
   {
    "_defaultOrder": 52,
    "_isFastLaunch": false,
    "category": "Accelerated computing",
    "gpuNum": 4,
    "hideHardwareSpecs": false,
    "memoryGiB": 192,
    "name": "ml.g5.12xlarge",
    "vcpuNum": 48
   },
   {
    "_defaultOrder": 53,
    "_isFastLaunch": false,
    "category": "Accelerated computing",
    "gpuNum": 4,
    "hideHardwareSpecs": false,
    "memoryGiB": 384,
    "name": "ml.g5.24xlarge",
    "vcpuNum": 96
   },
   {
    "_defaultOrder": 54,
    "_isFastLaunch": false,
    "category": "Accelerated computing",
    "gpuNum": 8,
    "hideHardwareSpecs": false,
    "memoryGiB": 768,
    "name": "ml.g5.48xlarge",
    "vcpuNum": 192
   },
   {
    "_defaultOrder": 55,
    "_isFastLaunch": false,
    "category": "Accelerated computing",
    "gpuNum": 8,
    "hideHardwareSpecs": false,
    "memoryGiB": 1152,
    "name": "ml.p4d.24xlarge",
    "vcpuNum": 96
   },
   {
    "_defaultOrder": 56,
    "_isFastLaunch": false,
    "category": "Accelerated computing",
    "gpuNum": 8,
    "hideHardwareSpecs": false,
    "memoryGiB": 1152,
    "name": "ml.p4de.24xlarge",
    "vcpuNum": 96
   }
  ],
  "instance_type": "ml.t3.medium",
  "kernelspec": {
   "display_name": "Python 3 (Data Science 3.0)",
   "language": "python",
   "name": "python3__SAGEMAKER_INTERNAL__arn:aws:sagemaker:us-east-1:081325390199:image/sagemaker-data-science-310-v1"
  },
  "language_info": {
   "codemirror_mode": {
    "name": "ipython",
    "version": 3
   },
   "file_extension": ".py",
   "mimetype": "text/x-python",
   "name": "python",
   "nbconvert_exporter": "python",
   "pygments_lexer": "ipython3",
   "version": "3.10.6"
  }
 },
 "nbformat": 4,
 "nbformat_minor": 4
}
